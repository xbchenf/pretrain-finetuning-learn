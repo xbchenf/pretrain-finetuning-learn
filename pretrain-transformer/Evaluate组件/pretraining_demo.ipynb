{
 "cells": [
  {
   "cell_type": "markdown",
   "metadata": {},
   "source": [
    "## 步骤1 导入包"
   ]
  },
  {
   "cell_type": "code",
   "execution_count": 1,
   "metadata": {},
   "outputs": [],
   "source": [
    "# 学术资源加速\n",
    "import subprocess\n",
    "import os\n",
    "\n",
    "result = subprocess.run('bash -c \"source /etc/network_turbo && env | grep proxy\"', shell=True, capture_output=True, text=True)\n",
    "output = result.stdout\n",
    "for line in output.splitlines():\n",
    "    if '=' in line:\n",
    "        var, value = line.split('=', 1)\n",
    "        os.environ[var] = value"
   ]
  },
  {
   "cell_type": "code",
   "execution_count": 2,
   "metadata": {},
   "outputs": [],
   "source": [
    "from transformers import AutoTokenizer, AutoModelForSequenceClassification\n",
    "from datasets import *"
   ]
  },
  {
   "cell_type": "markdown",
   "metadata": {
    "tags": []
   },
   "source": [
    "## 步骤2 获取数据集"
   ]
  },
  {
   "cell_type": "code",
   "execution_count": 3,
   "metadata": {},
   "outputs": [
    {
     "data": {
      "text/plain": [
       "Dataset({\n",
       "    features: ['label', 'review'],\n",
       "    num_rows: 7765\n",
       "})"
      ]
     },
     "execution_count": 3,
     "metadata": {},
     "output_type": "execute_result"
    }
   ],
   "source": [
    "# import pandas as pd\n",
    "\n",
    "\n",
    "# data = pd.read_csv(\"/root/transformers/classdata/ChnSentiCorp_htl_all.csv\")\n",
    "# data.dropna()\n",
    "# data\n",
    "\n",
    "\n",
    "## 修改为\n",
    "dataset = load_dataset(\"csv\", data_files=\"/root/transformers/classdata/ChnSentiCorp_htl_all.csv\", split=\"train\")\n",
    "dataset = dataset.filter(lambda x: x[\"review\"] is not None)\n",
    "dataset"
   ]
  },
  {
   "cell_type": "markdown",
   "metadata": {},
   "source": [
    "## 步骤3 创建数据集"
   ]
  },
  {
   "cell_type": "code",
   "execution_count": 5,
   "metadata": {},
   "outputs": [
    {
     "name": "stdout",
     "output_type": "stream",
     "text": [
      "('距离川沙公路较近,但是公交指示不对,如果是\"蔡陆线\"的话,会非常麻烦.建议用别的路线.房间较为简单.', 1)\n",
      "('商务大床房，房间很大，床有2M宽，整体感觉经济实惠不错!', 1)\n",
      "('早餐太差，无论去多少人，那边也不加食品的。酒店应该重视一下这个问题了。房间本身很好。', 1)\n",
      "('宾馆在小街道上，不大好找，但还好北京热心同胞很多~宾馆设施跟介绍的差不多，房间很小，确实挺小，但加上低价位因素，还是无超所值的；环境不错，就在小胡同内，安静整洁，暖气好足-_-||。。。呵还有一大优势就是从宾馆出发，步行不到十分钟就可以到梅兰芳故居等等，京味小胡同，北海距离好近呢。总之，不错。推荐给节约消费的自助游朋友~比较划算，附近特色小吃很多~', 1)\n",
      "('CBD中心,周围没什么店铺,说5星有点勉强.不知道为什么卫生间没有电吹风', 1)\n"
     ]
    }
   ],
   "source": [
    "# from torch.utils.data import Dataset\n",
    "\n",
    "# import pandas as pd\n",
    "\n",
    "\n",
    "\n",
    "# class MyDataset(Dataset):\n",
    "#     def __init__(self) -> None:\n",
    "#         super().__init__()\n",
    "#         self.data = pd.read_csv(\"/root/transformers/classdata/ChnSentiCorp_htl_all.csv\")\n",
    "#         self.data = self.data.dropna()\n",
    "#     def __getitem__(self,index):\n",
    "#         return self.data.iloc[index][\"review\"], self.data.iloc[index][\"label\"]\n",
    "#     def __len__(self):\n",
    "#         return len(self.data)\n",
    "    \n",
    "\n",
    "    \n",
    "\n",
    "# dataset = MyDataset()\n",
    "# for i in range(5):\n",
    "#     print(dataset[i])"
   ]
  },
  {
   "cell_type": "markdown",
   "metadata": {},
   "source": [
    "## 步骤4 划分数据集"
   ]
  },
  {
   "cell_type": "code",
   "execution_count": 4,
   "metadata": {},
   "outputs": [
    {
     "data": {
      "text/plain": [
       "DatasetDict({\n",
       "    train: Dataset({\n",
       "        features: ['label', 'review'],\n",
       "        num_rows: 6988\n",
       "    })\n",
       "    test: Dataset({\n",
       "        features: ['label', 'review'],\n",
       "        num_rows: 777\n",
       "    })\n",
       "})"
      ]
     },
     "execution_count": 4,
     "metadata": {},
     "output_type": "execute_result"
    }
   ],
   "source": [
    "# from torch.utils.data import  random_split\n",
    "\n",
    "\n",
    "\n",
    "# trainset, validset = random_split(dataset,lengths=[0.9,0.1])\n",
    "# len(trainset),len(validset)\n",
    "\n",
    "# 修改为：\n",
    "\n",
    "datasets = dataset.train_test_split(test_size=0.1)\n",
    "datasets"
   ]
  },
  {
   "cell_type": "markdown",
   "metadata": {
    "tags": []
   },
   "source": [
    "## 步骤5 创建DataLoader"
   ]
  },
  {
   "cell_type": "code",
   "execution_count": 5,
   "metadata": {},
   "outputs": [
    {
     "data": {
      "application/vnd.jupyter.widget-view+json": {
       "model_id": "05b05eb94fa64b0bb049460f9923134c",
       "version_major": 2,
       "version_minor": 0
      },
      "text/plain": [
       "Map:   0%|          | 0/6988 [00:00<?, ? examples/s]"
      ]
     },
     "metadata": {},
     "output_type": "display_data"
    },
    {
     "data": {
      "application/vnd.jupyter.widget-view+json": {
       "model_id": "9092dab7716e4f3780d74e116018ac5d",
       "version_major": 2,
       "version_minor": 0
      },
      "text/plain": [
       "Map:   0%|          | 0/777 [00:00<?, ? examples/s]"
      ]
     },
     "metadata": {},
     "output_type": "display_data"
    },
    {
     "name": "stderr",
     "output_type": "stream",
     "text": [
      "You're using a BertTokenizerFast tokenizer. Please note that with a fast tokenizer, using the `__call__` method is faster than using a method to encode the text followed by a call to the `pad` method to get a padded encoding.\n"
     ]
    },
    {
     "data": {
      "text/plain": [
       "{'input_ids': tensor([[ 101, 6983, 2421,  ...,    0,    0,    0],\n",
       "        [ 101, 3403, 1114,  ...,    0,    0,    0],\n",
       "        [ 101, 4384, 1862,  ..., 1736, 1139,  102],\n",
       "        ...,\n",
       "        [ 101, 1348, 6206,  ...,    0,    0,    0],\n",
       "        [ 101, 2791, 7313,  ...,    0,    0,    0],\n",
       "        [ 101, 1282,  671,  ..., 7667, 1762,  102]]), 'token_type_ids': tensor([[0, 0, 0,  ..., 0, 0, 0],\n",
       "        [0, 0, 0,  ..., 0, 0, 0],\n",
       "        [0, 0, 0,  ..., 0, 0, 0],\n",
       "        ...,\n",
       "        [0, 0, 0,  ..., 0, 0, 0],\n",
       "        [0, 0, 0,  ..., 0, 0, 0],\n",
       "        [0, 0, 0,  ..., 0, 0, 0]]), 'attention_mask': tensor([[1, 1, 1,  ..., 0, 0, 0],\n",
       "        [1, 1, 1,  ..., 0, 0, 0],\n",
       "        [1, 1, 1,  ..., 1, 1, 1],\n",
       "        ...,\n",
       "        [1, 1, 1,  ..., 0, 0, 0],\n",
       "        [1, 1, 1,  ..., 0, 0, 0],\n",
       "        [1, 1, 1,  ..., 1, 1, 1]]), 'labels': tensor([1, 1, 1, 1, 1, 1, 0, 1, 1, 1, 1, 1, 1, 1, 1, 1, 1, 0, 1, 0, 0, 1, 1, 1,\n",
       "        1, 1, 0, 1, 0, 1, 1, 1, 1, 1, 1, 1, 1, 0, 1, 0, 1, 1, 0, 1, 1, 1, 1, 1,\n",
       "        1, 0, 0, 0, 1, 1, 1, 0, 1, 0, 1, 0, 1, 0, 0, 1])}"
      ]
     },
     "execution_count": 5,
     "metadata": {},
     "output_type": "execute_result"
    }
   ],
   "source": [
    "# import torch\n",
    "# from torch.utils.data import DataLoader\n",
    "\n",
    "\n",
    "# tokenizer = AutoTokenizer.from_pretrained(\"/root/transformers/classmodel/rbt3\")\n",
    "\n",
    "# def collate_func(batch):\n",
    "#     texts,labels=[],[]\n",
    "#     for item in batch:\n",
    "#         texts.append(item[0])\n",
    "#         labels.append(item[1])\n",
    "#         ## return_tensors=\"pt\" 返回的是pytorch tensor类型。\n",
    "#         ## 吃葡萄不吐葡萄皮\n",
    "#         ## 不吃葡萄到吐葡萄皮\n",
    "#     inputs = tokenizer(texts,max_length=128,padding=\"max_length\",truncation=True, return_tensors=\"pt\")\n",
    "#     inputs[\"labels\"] = torch.tensor(labels)\n",
    "#     return inputs\n",
    "# ## dataloader中设置shuffle值为True，表示每次加载的数据都是随机的，将输入数据的顺序打乱。shuffle值为False，\n",
    "# ## 表示输入数据顺序固定。\n",
    "\n",
    "\n",
    "# trainloader = DataLoader(trainset,batch_size=32,shuffle=True,collate_fn=collate_func)\n",
    "# validloader = DataLoader(validset,batch_size=64,shuffle=False,collate_fn=collate_func)\n",
    "\n",
    "# next(enumerate(validloader))[1]\n",
    "\n",
    "## 修改为\n",
    "import torch\n",
    "from torch.utils.data import DataLoader\n",
    "from transformers import DataCollatorWithPadding\n",
    "\n",
    "tokenizer = AutoTokenizer.from_pretrained(\"/root/transformers/classmodel/rbt3\")\n",
    "\n",
    "def process_function(examples):\n",
    "    tokenized_examples = tokenizer(examples[\"review\"], max_length=128, truncation=True)\n",
    "    tokenized_examples[\"labels\"] = examples[\"label\"]\n",
    "    return tokenized_examples\n",
    "\n",
    "tokenized_datasets = datasets.map(process_function, batched=True, remove_columns=datasets[\"train\"].column_names)\n",
    "## list(list,list) pt\n",
    "\n",
    "trainset, validset = tokenized_datasets[\"train\"], tokenized_datasets[\"test\"]\n",
    "# DataCollatorWithPadding进行批量补齐操作（同时作用于input_ids、attention_mask和token_type_ids）\n",
    "trainloader = DataLoader(trainset, batch_size=32, shuffle=True, collate_fn=DataCollatorWithPadding(tokenizer))\n",
    "validloader = DataLoader(validset, batch_size=64, shuffle=False, collate_fn=DataCollatorWithPadding(tokenizer))\n",
    "next(enumerate(validloader))[1]"
   ]
  },
  {
   "cell_type": "markdown",
   "metadata": {},
   "source": [
    "## 步骤6 创建模型及其优化器"
   ]
  },
  {
   "cell_type": "code",
   "execution_count": 6,
   "metadata": {},
   "outputs": [
    {
     "name": "stderr",
     "output_type": "stream",
     "text": [
      "Some weights of BertForSequenceClassification were not initialized from the model checkpoint at /root/transformers/classmodel/rbt3 and are newly initialized: ['classifier.weight', 'classifier.bias']\n",
      "You should probably TRAIN this model on a down-stream task to be able to use it for predictions and inference.\n"
     ]
    }
   ],
   "source": [
    "from torch.optim import Adam\n",
    "\n",
    "from transformers import AutoModelForSequenceClassification\n",
    "\n",
    "model = AutoModelForSequenceClassification.from_pretrained(\"/root/transformers/classmodel/rbt3\")\n",
    "\n",
    "if torch.cuda.is_available():\n",
    "    model = model.cuda()\n",
    "\"\"\"\n",
    "当我们训练一个机器学习模型时，我们需要选择一个优化算法来帮助我们找到模型参数的最佳值。这个优化算法就是优化器（optimizer）。\n",
    "\n",
    "在这行代码中，我们选择了一种叫做Adam的优化算法作为我们的优化器。Adam算法是一种常用的优化算法，\n",
    "它根据每个参数的梯度（即参数的变化率）和学习率（lr）来更新参数的值。\n",
    "\n",
    "\"model.parameters()\"表示我们要优化的是模型的参数。模型的参数是模型中需要学习的权重和偏置等变量。\n",
    "\n",
    "\"lr=2e-5\"表示学习率的值被设置为2e-5（即0.00002）。学习率是控制模型在每次迭代中更新参数的步长。较大的学习率可能导致模型无法收敛，\n",
    "而较小的学习率可能需要更长的训练时间\n",
    "\"\"\"\n",
    "optimizer = Adam(model.parameters(), lr=2e-5)"
   ]
  },
  {
   "cell_type": "markdown",
   "metadata": {},
   "source": [
    "## 步骤7 训练与验证"
   ]
  },
  {
   "cell_type": "code",
   "execution_count": 10,
   "metadata": {},
   "outputs": [],
   "source": [
    "import evaluate\n",
    "clf_metrics = evaluate.combine([\"accuracy\", \"f1\"])\n",
    "\n",
    "def evaluate():\n",
    "    model.eval()\n",
    "    with torch.inference_mode():\n",
    "        for batch in validloader:\n",
    "            if torch.cuda.is_available():\n",
    "                batch = {k: v.cuda() for k, v in batch.items()}\n",
    "            output = model(**batch)\n",
    "            pred = torch.argmax(output.logits, dim=-1)\n",
    "            clf_metrics.add_batch(predictions=pred.long(), references=batch[\"labels\"].long())\n",
    "    return clf_metrics.compute()\n",
    "\n",
    "\n",
    "# def evaluate():\n",
    "#     ## 将模型设置为评估模式\n",
    "#     model.eval()\n",
    "#     acc_num=0\n",
    "#     #将训练模型转化为推理模型，模型将使用转换后的推理模式进行评估\n",
    "#     with torch.inference_mode():\n",
    "#         for batch in validloader:\n",
    "#             ## 检查是否有可用的GPU，如果有，则将数据批次转移到GPU上进行加速\n",
    "#             if torch.cuda.is_available():\n",
    "#                 batch = {k: v.cuda() for k,v in batch.items()}\n",
    "#             ##对数据批次进行前向传播，得到模型的输出\n",
    "#             output = model(**batch)\n",
    "#             ## 对模型输出进行预测，通过torch.argmax选择概率最高的类别。\n",
    "#             pred = torch.argmax(output.logits,dim=-1)\n",
    "#             ## 计算正确预测的数量，将预测值与标签进行比较，并使用.float()将比较结果转换为浮点数，使用.sum()进行求和操作\n",
    "#             acc_num += (pred.long() == batch[\"labels\"].long()).float().sum()\n",
    "#     ## 返回正确预测数量与验证集样本数量的比值，这表示模型在验证集上的准确率\n",
    "#     return acc_num / len(validset)\n",
    "\n",
    "\n",
    "\n",
    "\n",
    "def train(epoch=3,log_sep=100):\n",
    "    global_step = 0\n",
    "    for ep in range(epoch):\n",
    "        ## 开启训练模式\n",
    "        model.train()\n",
    "        for batch in trainloader:\n",
    "            if torch.cuda.is_available():\n",
    "                batch = {k: v.cuda() for k, v in batch.items()}\n",
    "            ## 梯度归0\n",
    "            optimizer.zero_grad()\n",
    "            ## 对数据批次进行前向传播，得到模型的输出\n",
    "            output=model(**batch)\n",
    "            ## 计算损失函数梯度并进行反向传播\n",
    "            output.loss.backward()\n",
    "            ## 优化器更新\n",
    "            optimizer.step()\n",
    "            if(global_step % log_sep == 0):\n",
    "                print(f\"ep:{ep},global_step:{global_step},loss:{output.loss.item()}\")\n",
    "            global_step += 1\n",
    "        ## 准确率\n",
    "        clf = evaluate()\n",
    "        ## 第几轮\n",
    "        print(f\"ep:{ep}, {clf}\")\n",
    "\n",
    "\n"
   ]
  },
  {
   "cell_type": "code",
   "execution_count": 11,
   "metadata": {},
   "outputs": [
    {
     "name": "stdout",
     "output_type": "stream",
     "text": [
      "ep:0,global_step:0,loss:0.6009122729301453\n",
      "ep:0,global_step:100,loss:0.3029576241970062\n",
      "ep:0,global_step:200,loss:0.40929195284843445\n",
      "ep:0,acc:0.8893178701400757\n",
      "ep:1,global_step:300,loss:0.12451878190040588\n",
      "ep:1,global_step:400,loss:0.4621058702468872\n",
      "ep:1,acc:0.8867439031600952\n",
      "ep:2,global_step:500,loss:0.1324274092912674\n",
      "ep:2,global_step:600,loss:0.41864141821861267\n",
      "ep:2,acc:0.8906049132347107\n"
     ]
    }
   ],
   "source": [
    "train()"
   ]
  },
  {
   "cell_type": "markdown",
   "metadata": {},
   "source": [
    "## 步骤8 模型预测"
   ]
  },
  {
   "cell_type": "code",
   "execution_count": 15,
   "metadata": {},
   "outputs": [
    {
     "name": "stdout",
     "output_type": "stream",
     "text": [
      "输入：昨晚在酒店里我睡得很好 \n",
      "模型的预测结果：好评\n"
     ]
    }
   ],
   "source": [
    "#sen = \"昨晚在酒店里我睡得很好\"\n",
    "\n",
    "# id2label = {0:\"差评\",1:\"好评\"}\n",
    "# ## 将模型设置为评估模式\n",
    "# model.eval\n",
    "\n",
    "#  #将训练模型转化为推理模型，模型将使用转换后的推理模式进行评估\n",
    "# with torch.inference_mode():\n",
    "#     ## 分词&&\n",
    "#     inputs = tokenizer(sen,return_tensors = \"pt\")\n",
    "#     ## GPU加速\n",
    "#     inputs = {k:v.cuda() for k,v in inputs.items()}\n",
    "#     ## 进行预测\n",
    "#     logits=model(**inputs).logits\n",
    "#     ## 在logits的最后一个维度上找到最大值，并返回其所在的索引。这相当于选择模型认为最有可能的类别\n",
    "#     pred = torch.argmax(logits, dim = -1)\n",
    "    \n",
    "#     print(f\"输入：{sen} \\n模型的预测结果：{id2label.get(pred.item())}\")"
   ]
  },
  {
   "cell_type": "markdown",
   "metadata": {},
   "source": [
    "## 使用Pipeline优化"
   ]
  },
  {
   "cell_type": "code",
   "execution_count": 12,
   "metadata": {},
   "outputs": [],
   "source": [
    "from transformers import pipeline\n",
    "\n",
    "#model.config.id2label = id2label\n",
    "sen = \"昨晚在酒店里我睡得很好\"\n",
    "\n",
    "pipe = pipeline(\"text-classification\", model=model, tokenizer=tokenizer, device=0)"
   ]
  },
  {
   "cell_type": "code",
   "execution_count": 13,
   "metadata": {},
   "outputs": [
    {
     "data": {
      "text/plain": [
       "[{'label': 'LABEL_1', 'score': 0.9283226132392883}]"
      ]
     },
     "execution_count": 13,
     "metadata": {},
     "output_type": "execute_result"
    }
   ],
   "source": [
    "pipe(sen)"
   ]
  }
 ],
 "metadata": {
  "kernelspec": {
   "display_name": "Python 3 (ipykernel)",
   "language": "python",
   "name": "python3"
  },
  "language_info": {
   "codemirror_mode": {
    "name": "ipython",
    "version": 3
   },
   "file_extension": ".py",
   "mimetype": "text/x-python",
   "name": "python",
   "nbconvert_exporter": "python",
   "pygments_lexer": "ipython3",
   "version": "3.10.8"
  }
 },
 "nbformat": 4,
 "nbformat_minor": 4
}
