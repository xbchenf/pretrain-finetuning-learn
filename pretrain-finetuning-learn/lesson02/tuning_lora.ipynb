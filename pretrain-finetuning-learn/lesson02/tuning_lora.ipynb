{
 "cells": [
  {
   "cell_type": "markdown",
   "metadata": {},
   "source": [
    "# Lora 实战"
   ]
  },
  {
   "cell_type": "markdown",
   "metadata": {},
   "source": [
    "## Step1 导入相关包"
   ]
  },
  {
   "cell_type": "code",
   "execution_count": 1,
   "metadata": {
    "tags": []
   },
   "outputs": [],
   "source": [
    "## 学术资源加速\n",
    "import subprocess\n",
    "import os\n",
    "\n",
    "result = subprocess.run('bash -c \"source /etc/network_turbo && env | grep proxy\"', shell=True, capture_output=True, text=True)\n",
    "output = result.stdout\n",
    "for line in output.splitlines():\n",
    "    if '=' in line:\n",
    "        var, value = line.split('=', 1)\n",
    "        os.environ[var] = value"
   ]
  },
  {
   "cell_type": "code",
   "execution_count": 2,
   "metadata": {
    "tags": []
   },
   "outputs": [],
   "source": [
    "from datasets import Dataset\n",
    "from transformers import AutoTokenizer, AutoModelForCausalLM, DataCollatorForSeq2Seq, TrainingArguments, Trainer"
   ]
  },
  {
   "cell_type": "markdown",
   "metadata": {},
   "source": [
    "## Step2 加载数据集"
   ]
  },
  {
   "cell_type": "code",
   "execution_count": 3,
   "metadata": {
    "tags": []
   },
   "outputs": [
    {
     "data": {
      "text/plain": [
       "Dataset({\n",
       "    features: ['output', 'input', 'instruction'],\n",
       "    num_rows: 26858\n",
       "})"
      ]
     },
     "execution_count": 3,
     "metadata": {},
     "output_type": "execute_result"
    }
   ],
   "source": [
    "ds = Dataset.load_from_disk(\"/root/PEFT代码/tuning/lesson01/data/alpaca_data_zh/\")\n",
    "ds"
   ]
  },
  {
   "cell_type": "code",
   "execution_count": 4,
   "metadata": {
    "tags": []
   },
   "outputs": [
    {
     "data": {
      "text/plain": [
       "{'output': ['以下是保持健康的三个提示：\\n\\n1. 保持身体活动。每天做适当的身体运动，如散步、跑步或游泳，能促进心血管健康，增强肌肉力量，并有助于减少体重。\\n\\n2. 均衡饮食。每天食用新鲜的蔬菜、水果、全谷物和脂肪含量低的蛋白质食物，避免高糖、高脂肪和加工食品，以保持健康的饮食习惯。\\n\\n3. 睡眠充足。睡眠对人体健康至关重要，成年人每天应保证 7-8 小时的睡眠。良好的睡眠有助于减轻压力，促进身体恢复，并提高注意力和记忆力。'],\n",
       " 'input': [''],\n",
       " 'instruction': ['保持健康的三个提示。']}"
      ]
     },
     "execution_count": 4,
     "metadata": {},
     "output_type": "execute_result"
    }
   ],
   "source": [
    "ds[:1]"
   ]
  },
  {
   "cell_type": "markdown",
   "metadata": {},
   "source": [
    "## Step3 数据集预处理"
   ]
  },
  {
   "cell_type": "code",
   "execution_count": 5,
   "metadata": {
    "tags": []
   },
   "outputs": [
    {
     "data": {
      "text/plain": [
       "BloomTokenizerFast(name_or_path='Langboat/bloom-1b4-zh', vocab_size=46145, model_max_length=1000000000000000019884624838656, is_fast=True, padding_side='left', truncation_side='right', special_tokens={'bos_token': '<s>', 'eos_token': '</s>', 'unk_token': '<unk>', 'pad_token': '<pad>'}, clean_up_tokenization_spaces=False),  added_tokens_decoder={\n",
       "\t0: AddedToken(\"<unk>\", rstrip=False, lstrip=False, single_word=False, normalized=False, special=True),\n",
       "\t1: AddedToken(\"<s>\", rstrip=False, lstrip=False, single_word=False, normalized=False, special=True),\n",
       "\t2: AddedToken(\"</s>\", rstrip=False, lstrip=False, single_word=False, normalized=False, special=True),\n",
       "\t3: AddedToken(\"<pad>\", rstrip=False, lstrip=False, single_word=False, normalized=False, special=True),\n",
       "}"
      ]
     },
     "execution_count": 5,
     "metadata": {},
     "output_type": "execute_result"
    }
   ],
   "source": [
    "tokenizer = AutoTokenizer.from_pretrained(\"Langboat/bloom-1b4-zh\")\n",
    "tokenizer"
   ]
  },
  {
   "cell_type": "code",
   "execution_count": 6,
   "metadata": {
    "tags": []
   },
   "outputs": [],
   "source": [
    "def process_func(example):\n",
    "    MAX_LENGTH = 256\n",
    "    input_ids, attention_mask, labels = [], [], []\n",
    "    instruction = tokenizer(\"\\n\".join([\"Human: \" + example[\"instruction\"], example[\"input\"]]).strip() + \"\\n\\nAssistant: \")\n",
    "    response = tokenizer(example[\"output\"] + tokenizer.eos_token)\n",
    "    input_ids = instruction[\"input_ids\"] + response[\"input_ids\"]\n",
    "    attention_mask = instruction[\"attention_mask\"] + response[\"attention_mask\"]\n",
    "    labels = [-100] * len(instruction[\"input_ids\"]) + response[\"input_ids\"]\n",
    "    if len(input_ids) > MAX_LENGTH:\n",
    "        input_ids = input_ids[:MAX_LENGTH]\n",
    "        attention_mask = attention_mask[:MAX_LENGTH]\n",
    "        labels = labels[:MAX_LENGTH]\n",
    "    return {\n",
    "        \"input_ids\": input_ids,\n",
    "        \"attention_mask\": attention_mask,\n",
    "        \"labels\": labels\n",
    "    }"
   ]
  },
  {
   "cell_type": "code",
   "execution_count": 7,
   "metadata": {
    "tags": []
   },
   "outputs": [
    {
     "data": {
      "text/plain": [
       "Dataset({\n",
       "    features: ['input_ids', 'attention_mask', 'labels'],\n",
       "    num_rows: 26858\n",
       "})"
      ]
     },
     "execution_count": 7,
     "metadata": {},
     "output_type": "execute_result"
    }
   ],
   "source": [
    "tokenized_ds = ds.map(process_func, remove_columns=ds.column_names)\n",
    "tokenized_ds"
   ]
  },
  {
   "cell_type": "markdown",
   "metadata": {},
   "source": [
    "## Step4 创建模型"
   ]
  },
  {
   "cell_type": "code",
   "execution_count": 8,
   "metadata": {
    "tags": []
   },
   "outputs": [
    {
     "data": {
      "application/vnd.jupyter.widget-view+json": {
       "model_id": "c697beaa73e046f5933b2e941123380e",
       "version_major": 2,
       "version_minor": 0
      },
      "text/plain": [
       "model.safetensors:   0%|          | 0.00/5.59G [00:00<?, ?B/s]"
      ]
     },
     "metadata": {},
     "output_type": "display_data"
    },
    {
     "ename": "ChunkedEncodingError",
     "evalue": "('Connection broken: IncompleteRead(1678337218 bytes read, 3912163836 more expected)', IncompleteRead(1678337218 bytes read, 3912163836 more expected))",
     "output_type": "error",
     "traceback": [
      "\u001b[0;31m---------------------------------------------------------------------------\u001b[0m",
      "\u001b[0;31mIncompleteRead\u001b[0m                            Traceback (most recent call last)",
      "File \u001b[0;32m~/miniconda3/lib/python3.10/site-packages/urllib3/response.py:737\u001b[0m, in \u001b[0;36mHTTPResponse._error_catcher\u001b[0;34m(self)\u001b[0m\n\u001b[1;32m    736\u001b[0m \u001b[38;5;28;01mtry\u001b[39;00m:\n\u001b[0;32m--> 737\u001b[0m     \u001b[38;5;28;01myield\u001b[39;00m\n\u001b[1;32m    739\u001b[0m \u001b[38;5;28;01mexcept\u001b[39;00m SocketTimeout \u001b[38;5;28;01mas\u001b[39;00m e:\n\u001b[1;32m    740\u001b[0m     \u001b[38;5;66;03m# FIXME: Ideally we'd like to include the url in the ReadTimeoutError but\u001b[39;00m\n\u001b[1;32m    741\u001b[0m     \u001b[38;5;66;03m# there is yet no clean way to get at it from this context.\u001b[39;00m\n",
      "File \u001b[0;32m~/miniconda3/lib/python3.10/site-packages/urllib3/response.py:883\u001b[0m, in \u001b[0;36mHTTPResponse._raw_read\u001b[0;34m(self, amt, read1)\u001b[0m\n\u001b[1;32m    873\u001b[0m     \u001b[38;5;28;01mif\u001b[39;00m (\n\u001b[1;32m    874\u001b[0m         \u001b[38;5;28mself\u001b[39m\u001b[38;5;241m.\u001b[39menforce_content_length\n\u001b[1;32m    875\u001b[0m         \u001b[38;5;129;01mand\u001b[39;00m \u001b[38;5;28mself\u001b[39m\u001b[38;5;241m.\u001b[39mlength_remaining \u001b[38;5;129;01mis\u001b[39;00m \u001b[38;5;129;01mnot\u001b[39;00m \u001b[38;5;28;01mNone\u001b[39;00m\n\u001b[0;32m   (...)\u001b[0m\n\u001b[1;32m    881\u001b[0m         \u001b[38;5;66;03m# raised during streaming, so all calls with incorrect\u001b[39;00m\n\u001b[1;32m    882\u001b[0m         \u001b[38;5;66;03m# Content-Length are caught.\u001b[39;00m\n\u001b[0;32m--> 883\u001b[0m         \u001b[38;5;28;01mraise\u001b[39;00m IncompleteRead(\u001b[38;5;28mself\u001b[39m\u001b[38;5;241m.\u001b[39m_fp_bytes_read, \u001b[38;5;28mself\u001b[39m\u001b[38;5;241m.\u001b[39mlength_remaining)\n\u001b[1;32m    884\u001b[0m \u001b[38;5;28;01melif\u001b[39;00m read1 \u001b[38;5;129;01mand\u001b[39;00m (\n\u001b[1;32m    885\u001b[0m     (amt \u001b[38;5;241m!=\u001b[39m \u001b[38;5;241m0\u001b[39m \u001b[38;5;129;01mand\u001b[39;00m \u001b[38;5;129;01mnot\u001b[39;00m data) \u001b[38;5;129;01mor\u001b[39;00m \u001b[38;5;28mself\u001b[39m\u001b[38;5;241m.\u001b[39mlength_remaining \u001b[38;5;241m==\u001b[39m \u001b[38;5;28mlen\u001b[39m(data)\n\u001b[1;32m    886\u001b[0m ):\n\u001b[0;32m   (...)\u001b[0m\n\u001b[1;32m    889\u001b[0m     \u001b[38;5;66;03m# `http.client.HTTPResponse`, so we close it here.\u001b[39;00m\n\u001b[1;32m    890\u001b[0m     \u001b[38;5;66;03m# See https://github.com/python/cpython/issues/113199\u001b[39;00m\n",
      "\u001b[0;31mIncompleteRead\u001b[0m: IncompleteRead(1678337218 bytes read, 3912163836 more expected)",
      "\nThe above exception was the direct cause of the following exception:\n",
      "\u001b[0;31mProtocolError\u001b[0m                             Traceback (most recent call last)",
      "File \u001b[0;32m~/miniconda3/lib/python3.10/site-packages/requests/models.py:816\u001b[0m, in \u001b[0;36mResponse.iter_content.<locals>.generate\u001b[0;34m()\u001b[0m\n\u001b[1;32m    815\u001b[0m \u001b[38;5;28;01mtry\u001b[39;00m:\n\u001b[0;32m--> 816\u001b[0m     \u001b[38;5;28;01myield from\u001b[39;00m \u001b[38;5;28mself\u001b[39m\u001b[38;5;241m.\u001b[39mraw\u001b[38;5;241m.\u001b[39mstream(chunk_size, decode_content\u001b[38;5;241m=\u001b[39m\u001b[38;5;28;01mTrue\u001b[39;00m)\n\u001b[1;32m    817\u001b[0m \u001b[38;5;28;01mexcept\u001b[39;00m ProtocolError \u001b[38;5;28;01mas\u001b[39;00m e:\n",
      "File \u001b[0;32m~/miniconda3/lib/python3.10/site-packages/urllib3/response.py:1043\u001b[0m, in \u001b[0;36mHTTPResponse.stream\u001b[0;34m(self, amt, decode_content)\u001b[0m\n\u001b[1;32m   1042\u001b[0m \u001b[38;5;28;01mwhile\u001b[39;00m \u001b[38;5;129;01mnot\u001b[39;00m is_fp_closed(\u001b[38;5;28mself\u001b[39m\u001b[38;5;241m.\u001b[39m_fp) \u001b[38;5;129;01mor\u001b[39;00m \u001b[38;5;28mlen\u001b[39m(\u001b[38;5;28mself\u001b[39m\u001b[38;5;241m.\u001b[39m_decoded_buffer) \u001b[38;5;241m>\u001b[39m \u001b[38;5;241m0\u001b[39m:\n\u001b[0;32m-> 1043\u001b[0m     data \u001b[38;5;241m=\u001b[39m \u001b[38;5;28;43mself\u001b[39;49m\u001b[38;5;241;43m.\u001b[39;49m\u001b[43mread\u001b[49m\u001b[43m(\u001b[49m\u001b[43mamt\u001b[49m\u001b[38;5;241;43m=\u001b[39;49m\u001b[43mamt\u001b[49m\u001b[43m,\u001b[49m\u001b[43m \u001b[49m\u001b[43mdecode_content\u001b[49m\u001b[38;5;241;43m=\u001b[39;49m\u001b[43mdecode_content\u001b[49m\u001b[43m)\u001b[49m\n\u001b[1;32m   1045\u001b[0m     \u001b[38;5;28;01mif\u001b[39;00m data:\n",
      "File \u001b[0;32m~/miniconda3/lib/python3.10/site-packages/urllib3/response.py:963\u001b[0m, in \u001b[0;36mHTTPResponse.read\u001b[0;34m(self, amt, decode_content, cache_content)\u001b[0m\n\u001b[1;32m    959\u001b[0m \u001b[38;5;28;01mwhile\u001b[39;00m \u001b[38;5;28mlen\u001b[39m(\u001b[38;5;28mself\u001b[39m\u001b[38;5;241m.\u001b[39m_decoded_buffer) \u001b[38;5;241m<\u001b[39m amt \u001b[38;5;129;01mand\u001b[39;00m data:\n\u001b[1;32m    960\u001b[0m     \u001b[38;5;66;03m# TODO make sure to initially read enough data to get past the headers\u001b[39;00m\n\u001b[1;32m    961\u001b[0m     \u001b[38;5;66;03m# For example, the GZ file header takes 10 bytes, we don't want to read\u001b[39;00m\n\u001b[1;32m    962\u001b[0m     \u001b[38;5;66;03m# it one byte at a time\u001b[39;00m\n\u001b[0;32m--> 963\u001b[0m     data \u001b[38;5;241m=\u001b[39m \u001b[38;5;28;43mself\u001b[39;49m\u001b[38;5;241;43m.\u001b[39;49m\u001b[43m_raw_read\u001b[49m\u001b[43m(\u001b[49m\u001b[43mamt\u001b[49m\u001b[43m)\u001b[49m\n\u001b[1;32m    964\u001b[0m     decoded_data \u001b[38;5;241m=\u001b[39m \u001b[38;5;28mself\u001b[39m\u001b[38;5;241m.\u001b[39m_decode(data, decode_content, flush_decoder)\n",
      "File \u001b[0;32m~/miniconda3/lib/python3.10/site-packages/urllib3/response.py:861\u001b[0m, in \u001b[0;36mHTTPResponse._raw_read\u001b[0;34m(self, amt, read1)\u001b[0m\n\u001b[1;32m    859\u001b[0m fp_closed \u001b[38;5;241m=\u001b[39m \u001b[38;5;28mgetattr\u001b[39m(\u001b[38;5;28mself\u001b[39m\u001b[38;5;241m.\u001b[39m_fp, \u001b[38;5;124m\"\u001b[39m\u001b[38;5;124mclosed\u001b[39m\u001b[38;5;124m\"\u001b[39m, \u001b[38;5;28;01mFalse\u001b[39;00m)\n\u001b[0;32m--> 861\u001b[0m \u001b[38;5;28;01mwith\u001b[39;00m \u001b[38;5;28mself\u001b[39m\u001b[38;5;241m.\u001b[39m_error_catcher():\n\u001b[1;32m    862\u001b[0m     data \u001b[38;5;241m=\u001b[39m \u001b[38;5;28mself\u001b[39m\u001b[38;5;241m.\u001b[39m_fp_read(amt, read1\u001b[38;5;241m=\u001b[39mread1) \u001b[38;5;28;01mif\u001b[39;00m \u001b[38;5;129;01mnot\u001b[39;00m fp_closed \u001b[38;5;28;01melse\u001b[39;00m \u001b[38;5;124mb\u001b[39m\u001b[38;5;124m\"\u001b[39m\u001b[38;5;124m\"\u001b[39m\n",
      "File \u001b[0;32m~/miniconda3/lib/python3.10/contextlib.py:153\u001b[0m, in \u001b[0;36m_GeneratorContextManager.__exit__\u001b[0;34m(self, typ, value, traceback)\u001b[0m\n\u001b[1;32m    152\u001b[0m \u001b[38;5;28;01mtry\u001b[39;00m:\n\u001b[0;32m--> 153\u001b[0m     \u001b[38;5;28;43mself\u001b[39;49m\u001b[38;5;241;43m.\u001b[39;49m\u001b[43mgen\u001b[49m\u001b[38;5;241;43m.\u001b[39;49m\u001b[43mthrow\u001b[49m\u001b[43m(\u001b[49m\u001b[43mtyp\u001b[49m\u001b[43m,\u001b[49m\u001b[43m \u001b[49m\u001b[43mvalue\u001b[49m\u001b[43m,\u001b[49m\u001b[43m \u001b[49m\u001b[43mtraceback\u001b[49m\u001b[43m)\u001b[49m\n\u001b[1;32m    154\u001b[0m \u001b[38;5;28;01mexcept\u001b[39;00m \u001b[38;5;167;01mStopIteration\u001b[39;00m \u001b[38;5;28;01mas\u001b[39;00m exc:\n\u001b[1;32m    155\u001b[0m     \u001b[38;5;66;03m# Suppress StopIteration *unless* it's the same exception that\u001b[39;00m\n\u001b[1;32m    156\u001b[0m     \u001b[38;5;66;03m# was passed to throw().  This prevents a StopIteration\u001b[39;00m\n\u001b[1;32m    157\u001b[0m     \u001b[38;5;66;03m# raised inside the \"with\" statement from being suppressed.\u001b[39;00m\n",
      "File \u001b[0;32m~/miniconda3/lib/python3.10/site-packages/urllib3/response.py:761\u001b[0m, in \u001b[0;36mHTTPResponse._error_catcher\u001b[0;34m(self)\u001b[0m\n\u001b[1;32m    760\u001b[0m         arg \u001b[38;5;241m=\u001b[39m \u001b[38;5;124mf\u001b[39m\u001b[38;5;124m\"\u001b[39m\u001b[38;5;124mConnection broken: \u001b[39m\u001b[38;5;132;01m{\u001b[39;00me\u001b[38;5;132;01m!r}\u001b[39;00m\u001b[38;5;124m\"\u001b[39m\n\u001b[0;32m--> 761\u001b[0m     \u001b[38;5;28;01mraise\u001b[39;00m ProtocolError(arg, e) \u001b[38;5;28;01mfrom\u001b[39;00m \u001b[38;5;21;01me\u001b[39;00m\n\u001b[1;32m    763\u001b[0m \u001b[38;5;28;01mexcept\u001b[39;00m (HTTPException, \u001b[38;5;167;01mOSError\u001b[39;00m) \u001b[38;5;28;01mas\u001b[39;00m e:\n",
      "\u001b[0;31mProtocolError\u001b[0m: ('Connection broken: IncompleteRead(1678337218 bytes read, 3912163836 more expected)', IncompleteRead(1678337218 bytes read, 3912163836 more expected))",
      "\nDuring handling of the above exception, another exception occurred:\n",
      "\u001b[0;31mChunkedEncodingError\u001b[0m                      Traceback (most recent call last)",
      "Cell \u001b[0;32mIn[8], line 1\u001b[0m\n\u001b[0;32m----> 1\u001b[0m model \u001b[38;5;241m=\u001b[39m \u001b[43mAutoModelForCausalLM\u001b[49m\u001b[38;5;241;43m.\u001b[39;49m\u001b[43mfrom_pretrained\u001b[49m\u001b[43m(\u001b[49m\u001b[38;5;124;43m\"\u001b[39;49m\u001b[38;5;124;43mLangboat/bloom-1b4-zh\u001b[39;49m\u001b[38;5;124;43m\"\u001b[39;49m\u001b[43m,\u001b[49m\u001b[43m \u001b[49m\u001b[43mlow_cpu_mem_usage\u001b[49m\u001b[38;5;241;43m=\u001b[39;49m\u001b[38;5;28;43;01mTrue\u001b[39;49;00m\u001b[43m)\u001b[49m\n",
      "File \u001b[0;32m~/miniconda3/lib/python3.10/site-packages/transformers/models/auto/auto_factory.py:563\u001b[0m, in \u001b[0;36m_BaseAutoModelClass.from_pretrained\u001b[0;34m(cls, pretrained_model_name_or_path, *model_args, **kwargs)\u001b[0m\n\u001b[1;32m    561\u001b[0m \u001b[38;5;28;01melif\u001b[39;00m \u001b[38;5;28mtype\u001b[39m(config) \u001b[38;5;129;01min\u001b[39;00m \u001b[38;5;28mcls\u001b[39m\u001b[38;5;241m.\u001b[39m_model_mapping\u001b[38;5;241m.\u001b[39mkeys():\n\u001b[1;32m    562\u001b[0m     model_class \u001b[38;5;241m=\u001b[39m _get_model_class(config, \u001b[38;5;28mcls\u001b[39m\u001b[38;5;241m.\u001b[39m_model_mapping)\n\u001b[0;32m--> 563\u001b[0m     \u001b[38;5;28;01mreturn\u001b[39;00m \u001b[43mmodel_class\u001b[49m\u001b[38;5;241;43m.\u001b[39;49m\u001b[43mfrom_pretrained\u001b[49m\u001b[43m(\u001b[49m\n\u001b[1;32m    564\u001b[0m \u001b[43m        \u001b[49m\u001b[43mpretrained_model_name_or_path\u001b[49m\u001b[43m,\u001b[49m\u001b[43m \u001b[49m\u001b[38;5;241;43m*\u001b[39;49m\u001b[43mmodel_args\u001b[49m\u001b[43m,\u001b[49m\u001b[43m \u001b[49m\u001b[43mconfig\u001b[49m\u001b[38;5;241;43m=\u001b[39;49m\u001b[43mconfig\u001b[49m\u001b[43m,\u001b[49m\u001b[43m \u001b[49m\u001b[38;5;241;43m*\u001b[39;49m\u001b[38;5;241;43m*\u001b[39;49m\u001b[43mhub_kwargs\u001b[49m\u001b[43m,\u001b[49m\u001b[43m \u001b[49m\u001b[38;5;241;43m*\u001b[39;49m\u001b[38;5;241;43m*\u001b[39;49m\u001b[43mkwargs\u001b[49m\n\u001b[1;32m    565\u001b[0m \u001b[43m    \u001b[49m\u001b[43m)\u001b[49m\n\u001b[1;32m    566\u001b[0m \u001b[38;5;28;01mraise\u001b[39;00m \u001b[38;5;167;01mValueError\u001b[39;00m(\n\u001b[1;32m    567\u001b[0m     \u001b[38;5;124mf\u001b[39m\u001b[38;5;124m\"\u001b[39m\u001b[38;5;124mUnrecognized configuration class \u001b[39m\u001b[38;5;132;01m{\u001b[39;00mconfig\u001b[38;5;241m.\u001b[39m\u001b[38;5;18m__class__\u001b[39m\u001b[38;5;132;01m}\u001b[39;00m\u001b[38;5;124m for this kind of AutoModel: \u001b[39m\u001b[38;5;132;01m{\u001b[39;00m\u001b[38;5;28mcls\u001b[39m\u001b[38;5;241m.\u001b[39m\u001b[38;5;18m__name__\u001b[39m\u001b[38;5;132;01m}\u001b[39;00m\u001b[38;5;124m.\u001b[39m\u001b[38;5;130;01m\\n\u001b[39;00m\u001b[38;5;124m\"\u001b[39m\n\u001b[1;32m    568\u001b[0m     \u001b[38;5;124mf\u001b[39m\u001b[38;5;124m\"\u001b[39m\u001b[38;5;124mModel type should be one of \u001b[39m\u001b[38;5;132;01m{\u001b[39;00m\u001b[38;5;124m'\u001b[39m\u001b[38;5;124m, \u001b[39m\u001b[38;5;124m'\u001b[39m\u001b[38;5;241m.\u001b[39mjoin(c\u001b[38;5;241m.\u001b[39m\u001b[38;5;18m__name__\u001b[39m\u001b[38;5;250m \u001b[39m\u001b[38;5;28;01mfor\u001b[39;00m\u001b[38;5;250m \u001b[39mc\u001b[38;5;250m \u001b[39m\u001b[38;5;129;01min\u001b[39;00m\u001b[38;5;250m \u001b[39m\u001b[38;5;28mcls\u001b[39m\u001b[38;5;241m.\u001b[39m_model_mapping\u001b[38;5;241m.\u001b[39mkeys())\u001b[38;5;132;01m}\u001b[39;00m\u001b[38;5;124m.\u001b[39m\u001b[38;5;124m\"\u001b[39m\n\u001b[1;32m    569\u001b[0m )\n",
      "File \u001b[0;32m~/miniconda3/lib/python3.10/site-packages/transformers/modeling_utils.py:3306\u001b[0m, in \u001b[0;36mPreTrainedModel.from_pretrained\u001b[0;34m(cls, pretrained_model_name_or_path, config, cache_dir, ignore_mismatched_sizes, force_download, local_files_only, token, revision, use_safetensors, *model_args, **kwargs)\u001b[0m\n\u001b[1;32m   3290\u001b[0m \u001b[38;5;28;01mtry\u001b[39;00m:\n\u001b[1;32m   3291\u001b[0m     \u001b[38;5;66;03m# Load from URL or cache if already cached\u001b[39;00m\n\u001b[1;32m   3292\u001b[0m     cached_file_kwargs \u001b[38;5;241m=\u001b[39m {\n\u001b[1;32m   3293\u001b[0m         \u001b[38;5;124m\"\u001b[39m\u001b[38;5;124mcache_dir\u001b[39m\u001b[38;5;124m\"\u001b[39m: cache_dir,\n\u001b[1;32m   3294\u001b[0m         \u001b[38;5;124m\"\u001b[39m\u001b[38;5;124mforce_download\u001b[39m\u001b[38;5;124m\"\u001b[39m: force_download,\n\u001b[0;32m   (...)\u001b[0m\n\u001b[1;32m   3304\u001b[0m         \u001b[38;5;124m\"\u001b[39m\u001b[38;5;124m_commit_hash\u001b[39m\u001b[38;5;124m\"\u001b[39m: commit_hash,\n\u001b[1;32m   3305\u001b[0m     }\n\u001b[0;32m-> 3306\u001b[0m     resolved_archive_file \u001b[38;5;241m=\u001b[39m \u001b[43mcached_file\u001b[49m\u001b[43m(\u001b[49m\u001b[43mpretrained_model_name_or_path\u001b[49m\u001b[43m,\u001b[49m\u001b[43m \u001b[49m\u001b[43mfilename\u001b[49m\u001b[43m,\u001b[49m\u001b[43m \u001b[49m\u001b[38;5;241;43m*\u001b[39;49m\u001b[38;5;241;43m*\u001b[39;49m\u001b[43mcached_file_kwargs\u001b[49m\u001b[43m)\u001b[49m\n\u001b[1;32m   3308\u001b[0m     \u001b[38;5;66;03m# Since we set _raise_exceptions_for_missing_entries=False, we don't get an exception but a None\u001b[39;00m\n\u001b[1;32m   3309\u001b[0m     \u001b[38;5;66;03m# result when internet is up, the repo and revision exist, but the file does not.\u001b[39;00m\n\u001b[1;32m   3310\u001b[0m     \u001b[38;5;28;01mif\u001b[39;00m resolved_archive_file \u001b[38;5;129;01mis\u001b[39;00m \u001b[38;5;28;01mNone\u001b[39;00m \u001b[38;5;129;01mand\u001b[39;00m filename \u001b[38;5;241m==\u001b[39m _add_variant(SAFE_WEIGHTS_NAME, variant):\n\u001b[1;32m   3311\u001b[0m         \u001b[38;5;66;03m# Maybe the checkpoint is sharded, we try to grab the index name in this case.\u001b[39;00m\n",
      "File \u001b[0;32m~/miniconda3/lib/python3.10/site-packages/transformers/utils/hub.py:398\u001b[0m, in \u001b[0;36mcached_file\u001b[0;34m(path_or_repo_id, filename, cache_dir, force_download, resume_download, proxies, token, revision, local_files_only, subfolder, repo_type, user_agent, _raise_exceptions_for_gated_repo, _raise_exceptions_for_missing_entries, _raise_exceptions_for_connection_errors, _commit_hash, **deprecated_kwargs)\u001b[0m\n\u001b[1;32m    395\u001b[0m user_agent \u001b[38;5;241m=\u001b[39m http_user_agent(user_agent)\n\u001b[1;32m    396\u001b[0m \u001b[38;5;28;01mtry\u001b[39;00m:\n\u001b[1;32m    397\u001b[0m     \u001b[38;5;66;03m# Load from URL or cache if already cached\u001b[39;00m\n\u001b[0;32m--> 398\u001b[0m     resolved_file \u001b[38;5;241m=\u001b[39m \u001b[43mhf_hub_download\u001b[49m\u001b[43m(\u001b[49m\n\u001b[1;32m    399\u001b[0m \u001b[43m        \u001b[49m\u001b[43mpath_or_repo_id\u001b[49m\u001b[43m,\u001b[49m\n\u001b[1;32m    400\u001b[0m \u001b[43m        \u001b[49m\u001b[43mfilename\u001b[49m\u001b[43m,\u001b[49m\n\u001b[1;32m    401\u001b[0m \u001b[43m        \u001b[49m\u001b[43msubfolder\u001b[49m\u001b[38;5;241;43m=\u001b[39;49m\u001b[38;5;28;43;01mNone\u001b[39;49;00m\u001b[43m \u001b[49m\u001b[38;5;28;43;01mif\u001b[39;49;00m\u001b[43m \u001b[49m\u001b[38;5;28;43mlen\u001b[39;49m\u001b[43m(\u001b[49m\u001b[43msubfolder\u001b[49m\u001b[43m)\u001b[49m\u001b[43m \u001b[49m\u001b[38;5;241;43m==\u001b[39;49m\u001b[43m \u001b[49m\u001b[38;5;241;43m0\u001b[39;49m\u001b[43m \u001b[49m\u001b[38;5;28;43;01melse\u001b[39;49;00m\u001b[43m \u001b[49m\u001b[43msubfolder\u001b[49m\u001b[43m,\u001b[49m\n\u001b[1;32m    402\u001b[0m \u001b[43m        \u001b[49m\u001b[43mrepo_type\u001b[49m\u001b[38;5;241;43m=\u001b[39;49m\u001b[43mrepo_type\u001b[49m\u001b[43m,\u001b[49m\n\u001b[1;32m    403\u001b[0m \u001b[43m        \u001b[49m\u001b[43mrevision\u001b[49m\u001b[38;5;241;43m=\u001b[39;49m\u001b[43mrevision\u001b[49m\u001b[43m,\u001b[49m\n\u001b[1;32m    404\u001b[0m \u001b[43m        \u001b[49m\u001b[43mcache_dir\u001b[49m\u001b[38;5;241;43m=\u001b[39;49m\u001b[43mcache_dir\u001b[49m\u001b[43m,\u001b[49m\n\u001b[1;32m    405\u001b[0m \u001b[43m        \u001b[49m\u001b[43muser_agent\u001b[49m\u001b[38;5;241;43m=\u001b[39;49m\u001b[43muser_agent\u001b[49m\u001b[43m,\u001b[49m\n\u001b[1;32m    406\u001b[0m \u001b[43m        \u001b[49m\u001b[43mforce_download\u001b[49m\u001b[38;5;241;43m=\u001b[39;49m\u001b[43mforce_download\u001b[49m\u001b[43m,\u001b[49m\n\u001b[1;32m    407\u001b[0m \u001b[43m        \u001b[49m\u001b[43mproxies\u001b[49m\u001b[38;5;241;43m=\u001b[39;49m\u001b[43mproxies\u001b[49m\u001b[43m,\u001b[49m\n\u001b[1;32m    408\u001b[0m \u001b[43m        \u001b[49m\u001b[43mresume_download\u001b[49m\u001b[38;5;241;43m=\u001b[39;49m\u001b[43mresume_download\u001b[49m\u001b[43m,\u001b[49m\n\u001b[1;32m    409\u001b[0m \u001b[43m        \u001b[49m\u001b[43mtoken\u001b[49m\u001b[38;5;241;43m=\u001b[39;49m\u001b[43mtoken\u001b[49m\u001b[43m,\u001b[49m\n\u001b[1;32m    410\u001b[0m \u001b[43m        \u001b[49m\u001b[43mlocal_files_only\u001b[49m\u001b[38;5;241;43m=\u001b[39;49m\u001b[43mlocal_files_only\u001b[49m\u001b[43m,\u001b[49m\n\u001b[1;32m    411\u001b[0m \u001b[43m    \u001b[49m\u001b[43m)\u001b[49m\n\u001b[1;32m    412\u001b[0m \u001b[38;5;28;01mexcept\u001b[39;00m GatedRepoError \u001b[38;5;28;01mas\u001b[39;00m e:\n\u001b[1;32m    413\u001b[0m     resolved_file \u001b[38;5;241m=\u001b[39m _get_cache_file_to_return(path_or_repo_id, full_filename, cache_dir, revision)\n",
      "File \u001b[0;32m~/miniconda3/lib/python3.10/site-packages/huggingface_hub/utils/_validators.py:119\u001b[0m, in \u001b[0;36mvalidate_hf_hub_args.<locals>._inner_fn\u001b[0;34m(*args, **kwargs)\u001b[0m\n\u001b[1;32m    116\u001b[0m \u001b[38;5;28;01mif\u001b[39;00m check_use_auth_token:\n\u001b[1;32m    117\u001b[0m     kwargs \u001b[38;5;241m=\u001b[39m smoothly_deprecate_use_auth_token(fn_name\u001b[38;5;241m=\u001b[39mfn\u001b[38;5;241m.\u001b[39m\u001b[38;5;18m__name__\u001b[39m, has_token\u001b[38;5;241m=\u001b[39mhas_token, kwargs\u001b[38;5;241m=\u001b[39mkwargs)\n\u001b[0;32m--> 119\u001b[0m \u001b[38;5;28;01mreturn\u001b[39;00m \u001b[43mfn\u001b[49m\u001b[43m(\u001b[49m\u001b[38;5;241;43m*\u001b[39;49m\u001b[43margs\u001b[49m\u001b[43m,\u001b[49m\u001b[43m \u001b[49m\u001b[38;5;241;43m*\u001b[39;49m\u001b[38;5;241;43m*\u001b[39;49m\u001b[43mkwargs\u001b[49m\u001b[43m)\u001b[49m\n",
      "File \u001b[0;32m~/miniconda3/lib/python3.10/site-packages/huggingface_hub/file_download.py:1492\u001b[0m, in \u001b[0;36mhf_hub_download\u001b[0;34m(repo_id, filename, subfolder, repo_type, revision, library_name, library_version, cache_dir, local_dir, local_dir_use_symlinks, user_agent, force_download, force_filename, proxies, etag_timeout, resume_download, token, local_files_only, headers, legacy_cache_layout, endpoint)\u001b[0m\n\u001b[1;32m   1489\u001b[0m         \u001b[38;5;28;01mif\u001b[39;00m local_dir \u001b[38;5;129;01mis\u001b[39;00m \u001b[38;5;129;01mnot\u001b[39;00m \u001b[38;5;28;01mNone\u001b[39;00m:\n\u001b[1;32m   1490\u001b[0m             _check_disk_space(expected_size, local_dir)\n\u001b[0;32m-> 1492\u001b[0m     \u001b[43mhttp_get\u001b[49m\u001b[43m(\u001b[49m\n\u001b[1;32m   1493\u001b[0m \u001b[43m        \u001b[49m\u001b[43murl_to_download\u001b[49m\u001b[43m,\u001b[49m\n\u001b[1;32m   1494\u001b[0m \u001b[43m        \u001b[49m\u001b[43mtemp_file\u001b[49m\u001b[43m,\u001b[49m\n\u001b[1;32m   1495\u001b[0m \u001b[43m        \u001b[49m\u001b[43mproxies\u001b[49m\u001b[38;5;241;43m=\u001b[39;49m\u001b[43mproxies\u001b[49m\u001b[43m,\u001b[49m\n\u001b[1;32m   1496\u001b[0m \u001b[43m        \u001b[49m\u001b[43mresume_size\u001b[49m\u001b[38;5;241;43m=\u001b[39;49m\u001b[43mresume_size\u001b[49m\u001b[43m,\u001b[49m\n\u001b[1;32m   1497\u001b[0m \u001b[43m        \u001b[49m\u001b[43mheaders\u001b[49m\u001b[38;5;241;43m=\u001b[39;49m\u001b[43mheaders\u001b[49m\u001b[43m,\u001b[49m\n\u001b[1;32m   1498\u001b[0m \u001b[43m        \u001b[49m\u001b[43mexpected_size\u001b[49m\u001b[38;5;241;43m=\u001b[39;49m\u001b[43mexpected_size\u001b[49m\u001b[43m,\u001b[49m\n\u001b[1;32m   1499\u001b[0m \u001b[43m        \u001b[49m\u001b[43mdisplayed_filename\u001b[49m\u001b[38;5;241;43m=\u001b[39;49m\u001b[43mfilename\u001b[49m\u001b[43m,\u001b[49m\n\u001b[1;32m   1500\u001b[0m \u001b[43m    \u001b[49m\u001b[43m)\u001b[49m\n\u001b[1;32m   1502\u001b[0m \u001b[38;5;28;01mif\u001b[39;00m local_dir \u001b[38;5;129;01mis\u001b[39;00m \u001b[38;5;28;01mNone\u001b[39;00m:\n\u001b[1;32m   1503\u001b[0m     logger\u001b[38;5;241m.\u001b[39mdebug(\u001b[38;5;124mf\u001b[39m\u001b[38;5;124m\"\u001b[39m\u001b[38;5;124mStoring \u001b[39m\u001b[38;5;132;01m{\u001b[39;00murl\u001b[38;5;132;01m}\u001b[39;00m\u001b[38;5;124m in cache at \u001b[39m\u001b[38;5;132;01m{\u001b[39;00mblob_path\u001b[38;5;132;01m}\u001b[39;00m\u001b[38;5;124m\"\u001b[39m)\n",
      "File \u001b[0;32m~/miniconda3/lib/python3.10/site-packages/huggingface_hub/file_download.py:535\u001b[0m, in \u001b[0;36mhttp_get\u001b[0;34m(url, temp_file, proxies, resume_size, headers, expected_size, displayed_filename, _nb_retries, _tqdm_bar)\u001b[0m\n\u001b[1;32m    533\u001b[0m new_resume_size \u001b[38;5;241m=\u001b[39m resume_size\n\u001b[1;32m    534\u001b[0m \u001b[38;5;28;01mtry\u001b[39;00m:\n\u001b[0;32m--> 535\u001b[0m     \u001b[38;5;28;01mfor\u001b[39;00m chunk \u001b[38;5;129;01min\u001b[39;00m r\u001b[38;5;241m.\u001b[39miter_content(chunk_size\u001b[38;5;241m=\u001b[39mDOWNLOAD_CHUNK_SIZE):\n\u001b[1;32m    536\u001b[0m         \u001b[38;5;28;01mif\u001b[39;00m chunk:  \u001b[38;5;66;03m# filter out keep-alive new chunks\u001b[39;00m\n\u001b[1;32m    537\u001b[0m             progress\u001b[38;5;241m.\u001b[39mupdate(\u001b[38;5;28mlen\u001b[39m(chunk))\n",
      "File \u001b[0;32m~/miniconda3/lib/python3.10/site-packages/requests/models.py:818\u001b[0m, in \u001b[0;36mResponse.iter_content.<locals>.generate\u001b[0;34m()\u001b[0m\n\u001b[1;32m    816\u001b[0m     \u001b[38;5;28;01myield from\u001b[39;00m \u001b[38;5;28mself\u001b[39m\u001b[38;5;241m.\u001b[39mraw\u001b[38;5;241m.\u001b[39mstream(chunk_size, decode_content\u001b[38;5;241m=\u001b[39m\u001b[38;5;28;01mTrue\u001b[39;00m)\n\u001b[1;32m    817\u001b[0m \u001b[38;5;28;01mexcept\u001b[39;00m ProtocolError \u001b[38;5;28;01mas\u001b[39;00m e:\n\u001b[0;32m--> 818\u001b[0m     \u001b[38;5;28;01mraise\u001b[39;00m ChunkedEncodingError(e)\n\u001b[1;32m    819\u001b[0m \u001b[38;5;28;01mexcept\u001b[39;00m DecodeError \u001b[38;5;28;01mas\u001b[39;00m e:\n\u001b[1;32m    820\u001b[0m     \u001b[38;5;28;01mraise\u001b[39;00m ContentDecodingError(e)\n",
      "\u001b[0;31mChunkedEncodingError\u001b[0m: ('Connection broken: IncompleteRead(1678337218 bytes read, 3912163836 more expected)', IncompleteRead(1678337218 bytes read, 3912163836 more expected))"
     ]
    }
   ],
   "source": [
    "model = AutoModelForCausalLM.from_pretrained(\"Langboat/bloom-1b4-zh\", low_cpu_mem_usage=True)"
   ]
  },
  {
   "cell_type": "code",
   "execution_count": 26,
   "metadata": {
    "collapsed": true,
    "jupyter": {
     "outputs_hidden": true
    },
    "tags": []
   },
   "outputs": [
    {
     "name": "stdout",
     "output_type": "stream",
     "text": [
      "base_model.model.transformer.word_embeddings.weight\n",
      "base_model.model.transformer.word_embeddings_layernorm.weight\n",
      "base_model.model.transformer.word_embeddings_layernorm.bias\n",
      "base_model.model.transformer.h.0.input_layernorm.weight\n",
      "base_model.model.transformer.h.0.input_layernorm.bias\n",
      "base_model.model.transformer.h.0.self_attention.query_key_value.base_layer.weight\n",
      "base_model.model.transformer.h.0.self_attention.query_key_value.base_layer.bias\n",
      "base_model.model.transformer.h.0.self_attention.query_key_value.lora_A.default.weight\n",
      "base_model.model.transformer.h.0.self_attention.query_key_value.lora_B.default.weight\n",
      "base_model.model.transformer.h.0.self_attention.dense.weight\n",
      "base_model.model.transformer.h.0.self_attention.dense.bias\n",
      "base_model.model.transformer.h.0.post_attention_layernorm.weight\n",
      "base_model.model.transformer.h.0.post_attention_layernorm.bias\n",
      "base_model.model.transformer.h.0.mlp.dense_h_to_4h.weight\n",
      "base_model.model.transformer.h.0.mlp.dense_h_to_4h.bias\n",
      "base_model.model.transformer.h.0.mlp.dense_4h_to_h.weight\n",
      "base_model.model.transformer.h.0.mlp.dense_4h_to_h.bias\n",
      "base_model.model.transformer.h.1.input_layernorm.weight\n",
      "base_model.model.transformer.h.1.input_layernorm.bias\n",
      "base_model.model.transformer.h.1.self_attention.query_key_value.base_layer.weight\n",
      "base_model.model.transformer.h.1.self_attention.query_key_value.base_layer.bias\n",
      "base_model.model.transformer.h.1.self_attention.query_key_value.lora_A.default.weight\n",
      "base_model.model.transformer.h.1.self_attention.query_key_value.lora_B.default.weight\n",
      "base_model.model.transformer.h.1.self_attention.dense.weight\n",
      "base_model.model.transformer.h.1.self_attention.dense.bias\n",
      "base_model.model.transformer.h.1.post_attention_layernorm.weight\n",
      "base_model.model.transformer.h.1.post_attention_layernorm.bias\n",
      "base_model.model.transformer.h.1.mlp.dense_h_to_4h.weight\n",
      "base_model.model.transformer.h.1.mlp.dense_h_to_4h.bias\n",
      "base_model.model.transformer.h.1.mlp.dense_4h_to_h.weight\n",
      "base_model.model.transformer.h.1.mlp.dense_4h_to_h.bias\n",
      "base_model.model.transformer.h.2.input_layernorm.weight\n",
      "base_model.model.transformer.h.2.input_layernorm.bias\n",
      "base_model.model.transformer.h.2.self_attention.query_key_value.base_layer.weight\n",
      "base_model.model.transformer.h.2.self_attention.query_key_value.base_layer.bias\n",
      "base_model.model.transformer.h.2.self_attention.query_key_value.lora_A.default.weight\n",
      "base_model.model.transformer.h.2.self_attention.query_key_value.lora_B.default.weight\n",
      "base_model.model.transformer.h.2.self_attention.dense.weight\n",
      "base_model.model.transformer.h.2.self_attention.dense.bias\n",
      "base_model.model.transformer.h.2.post_attention_layernorm.weight\n",
      "base_model.model.transformer.h.2.post_attention_layernorm.bias\n",
      "base_model.model.transformer.h.2.mlp.dense_h_to_4h.weight\n",
      "base_model.model.transformer.h.2.mlp.dense_h_to_4h.bias\n",
      "base_model.model.transformer.h.2.mlp.dense_4h_to_h.weight\n",
      "base_model.model.transformer.h.2.mlp.dense_4h_to_h.bias\n",
      "base_model.model.transformer.h.3.input_layernorm.weight\n",
      "base_model.model.transformer.h.3.input_layernorm.bias\n",
      "base_model.model.transformer.h.3.self_attention.query_key_value.base_layer.weight\n",
      "base_model.model.transformer.h.3.self_attention.query_key_value.base_layer.bias\n",
      "base_model.model.transformer.h.3.self_attention.query_key_value.lora_A.default.weight\n",
      "base_model.model.transformer.h.3.self_attention.query_key_value.lora_B.default.weight\n",
      "base_model.model.transformer.h.3.self_attention.dense.weight\n",
      "base_model.model.transformer.h.3.self_attention.dense.bias\n",
      "base_model.model.transformer.h.3.post_attention_layernorm.weight\n",
      "base_model.model.transformer.h.3.post_attention_layernorm.bias\n",
      "base_model.model.transformer.h.3.mlp.dense_h_to_4h.weight\n",
      "base_model.model.transformer.h.3.mlp.dense_h_to_4h.bias\n",
      "base_model.model.transformer.h.3.mlp.dense_4h_to_h.weight\n",
      "base_model.model.transformer.h.3.mlp.dense_4h_to_h.bias\n",
      "base_model.model.transformer.h.4.input_layernorm.weight\n",
      "base_model.model.transformer.h.4.input_layernorm.bias\n",
      "base_model.model.transformer.h.4.self_attention.query_key_value.base_layer.weight\n",
      "base_model.model.transformer.h.4.self_attention.query_key_value.base_layer.bias\n",
      "base_model.model.transformer.h.4.self_attention.query_key_value.lora_A.default.weight\n",
      "base_model.model.transformer.h.4.self_attention.query_key_value.lora_B.default.weight\n",
      "base_model.model.transformer.h.4.self_attention.dense.weight\n",
      "base_model.model.transformer.h.4.self_attention.dense.bias\n",
      "base_model.model.transformer.h.4.post_attention_layernorm.weight\n",
      "base_model.model.transformer.h.4.post_attention_layernorm.bias\n",
      "base_model.model.transformer.h.4.mlp.dense_h_to_4h.weight\n",
      "base_model.model.transformer.h.4.mlp.dense_h_to_4h.bias\n",
      "base_model.model.transformer.h.4.mlp.dense_4h_to_h.weight\n",
      "base_model.model.transformer.h.4.mlp.dense_4h_to_h.bias\n",
      "base_model.model.transformer.h.5.input_layernorm.weight\n",
      "base_model.model.transformer.h.5.input_layernorm.bias\n",
      "base_model.model.transformer.h.5.self_attention.query_key_value.base_layer.weight\n",
      "base_model.model.transformer.h.5.self_attention.query_key_value.base_layer.bias\n",
      "base_model.model.transformer.h.5.self_attention.query_key_value.lora_A.default.weight\n",
      "base_model.model.transformer.h.5.self_attention.query_key_value.lora_B.default.weight\n",
      "base_model.model.transformer.h.5.self_attention.dense.weight\n",
      "base_model.model.transformer.h.5.self_attention.dense.bias\n",
      "base_model.model.transformer.h.5.post_attention_layernorm.weight\n",
      "base_model.model.transformer.h.5.post_attention_layernorm.bias\n",
      "base_model.model.transformer.h.5.mlp.dense_h_to_4h.weight\n",
      "base_model.model.transformer.h.5.mlp.dense_h_to_4h.bias\n",
      "base_model.model.transformer.h.5.mlp.dense_4h_to_h.weight\n",
      "base_model.model.transformer.h.5.mlp.dense_4h_to_h.bias\n",
      "base_model.model.transformer.h.6.input_layernorm.weight\n",
      "base_model.model.transformer.h.6.input_layernorm.bias\n",
      "base_model.model.transformer.h.6.self_attention.query_key_value.base_layer.weight\n",
      "base_model.model.transformer.h.6.self_attention.query_key_value.base_layer.bias\n",
      "base_model.model.transformer.h.6.self_attention.query_key_value.lora_A.default.weight\n",
      "base_model.model.transformer.h.6.self_attention.query_key_value.lora_B.default.weight\n",
      "base_model.model.transformer.h.6.self_attention.dense.weight\n",
      "base_model.model.transformer.h.6.self_attention.dense.bias\n",
      "base_model.model.transformer.h.6.post_attention_layernorm.weight\n",
      "base_model.model.transformer.h.6.post_attention_layernorm.bias\n",
      "base_model.model.transformer.h.6.mlp.dense_h_to_4h.weight\n",
      "base_model.model.transformer.h.6.mlp.dense_h_to_4h.bias\n",
      "base_model.model.transformer.h.6.mlp.dense_4h_to_h.weight\n",
      "base_model.model.transformer.h.6.mlp.dense_4h_to_h.bias\n",
      "base_model.model.transformer.h.7.input_layernorm.weight\n",
      "base_model.model.transformer.h.7.input_layernorm.bias\n",
      "base_model.model.transformer.h.7.self_attention.query_key_value.base_layer.weight\n",
      "base_model.model.transformer.h.7.self_attention.query_key_value.base_layer.bias\n",
      "base_model.model.transformer.h.7.self_attention.query_key_value.lora_A.default.weight\n",
      "base_model.model.transformer.h.7.self_attention.query_key_value.lora_B.default.weight\n",
      "base_model.model.transformer.h.7.self_attention.dense.weight\n",
      "base_model.model.transformer.h.7.self_attention.dense.bias\n",
      "base_model.model.transformer.h.7.post_attention_layernorm.weight\n",
      "base_model.model.transformer.h.7.post_attention_layernorm.bias\n",
      "base_model.model.transformer.h.7.mlp.dense_h_to_4h.weight\n",
      "base_model.model.transformer.h.7.mlp.dense_h_to_4h.bias\n",
      "base_model.model.transformer.h.7.mlp.dense_4h_to_h.weight\n",
      "base_model.model.transformer.h.7.mlp.dense_4h_to_h.bias\n",
      "base_model.model.transformer.h.8.input_layernorm.weight\n",
      "base_model.model.transformer.h.8.input_layernorm.bias\n",
      "base_model.model.transformer.h.8.self_attention.query_key_value.base_layer.weight\n",
      "base_model.model.transformer.h.8.self_attention.query_key_value.base_layer.bias\n",
      "base_model.model.transformer.h.8.self_attention.query_key_value.lora_A.default.weight\n",
      "base_model.model.transformer.h.8.self_attention.query_key_value.lora_B.default.weight\n",
      "base_model.model.transformer.h.8.self_attention.dense.weight\n",
      "base_model.model.transformer.h.8.self_attention.dense.bias\n",
      "base_model.model.transformer.h.8.post_attention_layernorm.weight\n",
      "base_model.model.transformer.h.8.post_attention_layernorm.bias\n",
      "base_model.model.transformer.h.8.mlp.dense_h_to_4h.weight\n",
      "base_model.model.transformer.h.8.mlp.dense_h_to_4h.bias\n",
      "base_model.model.transformer.h.8.mlp.dense_4h_to_h.weight\n",
      "base_model.model.transformer.h.8.mlp.dense_4h_to_h.bias\n",
      "base_model.model.transformer.h.9.input_layernorm.weight\n",
      "base_model.model.transformer.h.9.input_layernorm.bias\n",
      "base_model.model.transformer.h.9.self_attention.query_key_value.base_layer.weight\n",
      "base_model.model.transformer.h.9.self_attention.query_key_value.base_layer.bias\n",
      "base_model.model.transformer.h.9.self_attention.query_key_value.lora_A.default.weight\n",
      "base_model.model.transformer.h.9.self_attention.query_key_value.lora_B.default.weight\n",
      "base_model.model.transformer.h.9.self_attention.dense.weight\n",
      "base_model.model.transformer.h.9.self_attention.dense.bias\n",
      "base_model.model.transformer.h.9.post_attention_layernorm.weight\n",
      "base_model.model.transformer.h.9.post_attention_layernorm.bias\n",
      "base_model.model.transformer.h.9.mlp.dense_h_to_4h.weight\n",
      "base_model.model.transformer.h.9.mlp.dense_h_to_4h.bias\n",
      "base_model.model.transformer.h.9.mlp.dense_4h_to_h.weight\n",
      "base_model.model.transformer.h.9.mlp.dense_4h_to_h.bias\n",
      "base_model.model.transformer.h.10.input_layernorm.weight\n",
      "base_model.model.transformer.h.10.input_layernorm.bias\n",
      "base_model.model.transformer.h.10.self_attention.query_key_value.base_layer.weight\n",
      "base_model.model.transformer.h.10.self_attention.query_key_value.base_layer.bias\n",
      "base_model.model.transformer.h.10.self_attention.query_key_value.lora_A.default.weight\n",
      "base_model.model.transformer.h.10.self_attention.query_key_value.lora_B.default.weight\n",
      "base_model.model.transformer.h.10.self_attention.dense.weight\n",
      "base_model.model.transformer.h.10.self_attention.dense.bias\n",
      "base_model.model.transformer.h.10.post_attention_layernorm.weight\n",
      "base_model.model.transformer.h.10.post_attention_layernorm.bias\n",
      "base_model.model.transformer.h.10.mlp.dense_h_to_4h.weight\n",
      "base_model.model.transformer.h.10.mlp.dense_h_to_4h.bias\n",
      "base_model.model.transformer.h.10.mlp.dense_4h_to_h.weight\n",
      "base_model.model.transformer.h.10.mlp.dense_4h_to_h.bias\n",
      "base_model.model.transformer.h.11.input_layernorm.weight\n",
      "base_model.model.transformer.h.11.input_layernorm.bias\n",
      "base_model.model.transformer.h.11.self_attention.query_key_value.base_layer.weight\n",
      "base_model.model.transformer.h.11.self_attention.query_key_value.base_layer.bias\n",
      "base_model.model.transformer.h.11.self_attention.query_key_value.lora_A.default.weight\n",
      "base_model.model.transformer.h.11.self_attention.query_key_value.lora_B.default.weight\n",
      "base_model.model.transformer.h.11.self_attention.dense.weight\n",
      "base_model.model.transformer.h.11.self_attention.dense.bias\n",
      "base_model.model.transformer.h.11.post_attention_layernorm.weight\n",
      "base_model.model.transformer.h.11.post_attention_layernorm.bias\n",
      "base_model.model.transformer.h.11.mlp.dense_h_to_4h.weight\n",
      "base_model.model.transformer.h.11.mlp.dense_h_to_4h.bias\n",
      "base_model.model.transformer.h.11.mlp.dense_4h_to_h.weight\n",
      "base_model.model.transformer.h.11.mlp.dense_4h_to_h.bias\n",
      "base_model.model.transformer.h.12.input_layernorm.weight\n",
      "base_model.model.transformer.h.12.input_layernorm.bias\n",
      "base_model.model.transformer.h.12.self_attention.query_key_value.base_layer.weight\n",
      "base_model.model.transformer.h.12.self_attention.query_key_value.base_layer.bias\n",
      "base_model.model.transformer.h.12.self_attention.query_key_value.lora_A.default.weight\n",
      "base_model.model.transformer.h.12.self_attention.query_key_value.lora_B.default.weight\n",
      "base_model.model.transformer.h.12.self_attention.dense.weight\n",
      "base_model.model.transformer.h.12.self_attention.dense.bias\n",
      "base_model.model.transformer.h.12.post_attention_layernorm.weight\n",
      "base_model.model.transformer.h.12.post_attention_layernorm.bias\n",
      "base_model.model.transformer.h.12.mlp.dense_h_to_4h.weight\n",
      "base_model.model.transformer.h.12.mlp.dense_h_to_4h.bias\n",
      "base_model.model.transformer.h.12.mlp.dense_4h_to_h.weight\n",
      "base_model.model.transformer.h.12.mlp.dense_4h_to_h.bias\n",
      "base_model.model.transformer.h.13.input_layernorm.weight\n",
      "base_model.model.transformer.h.13.input_layernorm.bias\n",
      "base_model.model.transformer.h.13.self_attention.query_key_value.base_layer.weight\n",
      "base_model.model.transformer.h.13.self_attention.query_key_value.base_layer.bias\n",
      "base_model.model.transformer.h.13.self_attention.query_key_value.lora_A.default.weight\n",
      "base_model.model.transformer.h.13.self_attention.query_key_value.lora_B.default.weight\n",
      "base_model.model.transformer.h.13.self_attention.dense.weight\n",
      "base_model.model.transformer.h.13.self_attention.dense.bias\n",
      "base_model.model.transformer.h.13.post_attention_layernorm.weight\n",
      "base_model.model.transformer.h.13.post_attention_layernorm.bias\n",
      "base_model.model.transformer.h.13.mlp.dense_h_to_4h.weight\n",
      "base_model.model.transformer.h.13.mlp.dense_h_to_4h.bias\n",
      "base_model.model.transformer.h.13.mlp.dense_4h_to_h.weight\n",
      "base_model.model.transformer.h.13.mlp.dense_4h_to_h.bias\n",
      "base_model.model.transformer.h.14.input_layernorm.weight\n",
      "base_model.model.transformer.h.14.input_layernorm.bias\n",
      "base_model.model.transformer.h.14.self_attention.query_key_value.base_layer.weight\n",
      "base_model.model.transformer.h.14.self_attention.query_key_value.base_layer.bias\n",
      "base_model.model.transformer.h.14.self_attention.query_key_value.lora_A.default.weight\n",
      "base_model.model.transformer.h.14.self_attention.query_key_value.lora_B.default.weight\n",
      "base_model.model.transformer.h.14.self_attention.dense.weight\n",
      "base_model.model.transformer.h.14.self_attention.dense.bias\n",
      "base_model.model.transformer.h.14.post_attention_layernorm.weight\n",
      "base_model.model.transformer.h.14.post_attention_layernorm.bias\n",
      "base_model.model.transformer.h.14.mlp.dense_h_to_4h.weight\n",
      "base_model.model.transformer.h.14.mlp.dense_h_to_4h.bias\n",
      "base_model.model.transformer.h.14.mlp.dense_4h_to_h.weight\n",
      "base_model.model.transformer.h.14.mlp.dense_4h_to_h.bias\n",
      "base_model.model.transformer.h.15.input_layernorm.weight\n",
      "base_model.model.transformer.h.15.input_layernorm.bias\n",
      "base_model.model.transformer.h.15.self_attention.query_key_value.base_layer.weight\n",
      "base_model.model.transformer.h.15.self_attention.query_key_value.base_layer.bias\n",
      "base_model.model.transformer.h.15.self_attention.query_key_value.lora_A.default.weight\n",
      "base_model.model.transformer.h.15.self_attention.query_key_value.lora_B.default.weight\n",
      "base_model.model.transformer.h.15.self_attention.dense.weight\n",
      "base_model.model.transformer.h.15.self_attention.dense.bias\n",
      "base_model.model.transformer.h.15.post_attention_layernorm.weight\n",
      "base_model.model.transformer.h.15.post_attention_layernorm.bias\n",
      "base_model.model.transformer.h.15.mlp.dense_h_to_4h.weight\n",
      "base_model.model.transformer.h.15.mlp.dense_h_to_4h.bias\n",
      "base_model.model.transformer.h.15.mlp.dense_4h_to_h.weight\n",
      "base_model.model.transformer.h.15.mlp.dense_4h_to_h.bias\n",
      "base_model.model.transformer.h.16.input_layernorm.weight\n",
      "base_model.model.transformer.h.16.input_layernorm.bias\n",
      "base_model.model.transformer.h.16.self_attention.query_key_value.base_layer.weight\n",
      "base_model.model.transformer.h.16.self_attention.query_key_value.base_layer.bias\n",
      "base_model.model.transformer.h.16.self_attention.query_key_value.lora_A.default.weight\n",
      "base_model.model.transformer.h.16.self_attention.query_key_value.lora_B.default.weight\n",
      "base_model.model.transformer.h.16.self_attention.dense.weight\n",
      "base_model.model.transformer.h.16.self_attention.dense.bias\n",
      "base_model.model.transformer.h.16.post_attention_layernorm.weight\n",
      "base_model.model.transformer.h.16.post_attention_layernorm.bias\n",
      "base_model.model.transformer.h.16.mlp.dense_h_to_4h.weight\n",
      "base_model.model.transformer.h.16.mlp.dense_h_to_4h.bias\n",
      "base_model.model.transformer.h.16.mlp.dense_4h_to_h.weight\n",
      "base_model.model.transformer.h.16.mlp.dense_4h_to_h.bias\n",
      "base_model.model.transformer.h.17.input_layernorm.weight\n",
      "base_model.model.transformer.h.17.input_layernorm.bias\n",
      "base_model.model.transformer.h.17.self_attention.query_key_value.base_layer.weight\n",
      "base_model.model.transformer.h.17.self_attention.query_key_value.base_layer.bias\n",
      "base_model.model.transformer.h.17.self_attention.query_key_value.lora_A.default.weight\n",
      "base_model.model.transformer.h.17.self_attention.query_key_value.lora_B.default.weight\n",
      "base_model.model.transformer.h.17.self_attention.dense.weight\n",
      "base_model.model.transformer.h.17.self_attention.dense.bias\n",
      "base_model.model.transformer.h.17.post_attention_layernorm.weight\n",
      "base_model.model.transformer.h.17.post_attention_layernorm.bias\n",
      "base_model.model.transformer.h.17.mlp.dense_h_to_4h.weight\n",
      "base_model.model.transformer.h.17.mlp.dense_h_to_4h.bias\n",
      "base_model.model.transformer.h.17.mlp.dense_4h_to_h.weight\n",
      "base_model.model.transformer.h.17.mlp.dense_4h_to_h.bias\n",
      "base_model.model.transformer.h.18.input_layernorm.weight\n",
      "base_model.model.transformer.h.18.input_layernorm.bias\n",
      "base_model.model.transformer.h.18.self_attention.query_key_value.base_layer.weight\n",
      "base_model.model.transformer.h.18.self_attention.query_key_value.base_layer.bias\n",
      "base_model.model.transformer.h.18.self_attention.query_key_value.lora_A.default.weight\n",
      "base_model.model.transformer.h.18.self_attention.query_key_value.lora_B.default.weight\n",
      "base_model.model.transformer.h.18.self_attention.dense.weight\n",
      "base_model.model.transformer.h.18.self_attention.dense.bias\n",
      "base_model.model.transformer.h.18.post_attention_layernorm.weight\n",
      "base_model.model.transformer.h.18.post_attention_layernorm.bias\n",
      "base_model.model.transformer.h.18.mlp.dense_h_to_4h.weight\n",
      "base_model.model.transformer.h.18.mlp.dense_h_to_4h.bias\n",
      "base_model.model.transformer.h.18.mlp.dense_4h_to_h.weight\n",
      "base_model.model.transformer.h.18.mlp.dense_4h_to_h.bias\n",
      "base_model.model.transformer.h.19.input_layernorm.weight\n",
      "base_model.model.transformer.h.19.input_layernorm.bias\n",
      "base_model.model.transformer.h.19.self_attention.query_key_value.base_layer.weight\n",
      "base_model.model.transformer.h.19.self_attention.query_key_value.base_layer.bias\n",
      "base_model.model.transformer.h.19.self_attention.query_key_value.lora_A.default.weight\n",
      "base_model.model.transformer.h.19.self_attention.query_key_value.lora_B.default.weight\n",
      "base_model.model.transformer.h.19.self_attention.dense.weight\n",
      "base_model.model.transformer.h.19.self_attention.dense.bias\n",
      "base_model.model.transformer.h.19.post_attention_layernorm.weight\n",
      "base_model.model.transformer.h.19.post_attention_layernorm.bias\n",
      "base_model.model.transformer.h.19.mlp.dense_h_to_4h.weight\n",
      "base_model.model.transformer.h.19.mlp.dense_h_to_4h.bias\n",
      "base_model.model.transformer.h.19.mlp.dense_4h_to_h.weight\n",
      "base_model.model.transformer.h.19.mlp.dense_4h_to_h.bias\n",
      "base_model.model.transformer.h.20.input_layernorm.weight\n",
      "base_model.model.transformer.h.20.input_layernorm.bias\n",
      "base_model.model.transformer.h.20.self_attention.query_key_value.base_layer.weight\n",
      "base_model.model.transformer.h.20.self_attention.query_key_value.base_layer.bias\n",
      "base_model.model.transformer.h.20.self_attention.query_key_value.lora_A.default.weight\n",
      "base_model.model.transformer.h.20.self_attention.query_key_value.lora_B.default.weight\n",
      "base_model.model.transformer.h.20.self_attention.dense.weight\n",
      "base_model.model.transformer.h.20.self_attention.dense.bias\n",
      "base_model.model.transformer.h.20.post_attention_layernorm.weight\n",
      "base_model.model.transformer.h.20.post_attention_layernorm.bias\n",
      "base_model.model.transformer.h.20.mlp.dense_h_to_4h.weight\n",
      "base_model.model.transformer.h.20.mlp.dense_h_to_4h.bias\n",
      "base_model.model.transformer.h.20.mlp.dense_4h_to_h.weight\n",
      "base_model.model.transformer.h.20.mlp.dense_4h_to_h.bias\n",
      "base_model.model.transformer.h.21.input_layernorm.weight\n",
      "base_model.model.transformer.h.21.input_layernorm.bias\n",
      "base_model.model.transformer.h.21.self_attention.query_key_value.base_layer.weight\n",
      "base_model.model.transformer.h.21.self_attention.query_key_value.base_layer.bias\n",
      "base_model.model.transformer.h.21.self_attention.query_key_value.lora_A.default.weight\n",
      "base_model.model.transformer.h.21.self_attention.query_key_value.lora_B.default.weight\n",
      "base_model.model.transformer.h.21.self_attention.dense.weight\n",
      "base_model.model.transformer.h.21.self_attention.dense.bias\n",
      "base_model.model.transformer.h.21.post_attention_layernorm.weight\n",
      "base_model.model.transformer.h.21.post_attention_layernorm.bias\n",
      "base_model.model.transformer.h.21.mlp.dense_h_to_4h.weight\n",
      "base_model.model.transformer.h.21.mlp.dense_h_to_4h.bias\n",
      "base_model.model.transformer.h.21.mlp.dense_4h_to_h.weight\n",
      "base_model.model.transformer.h.21.mlp.dense_4h_to_h.bias\n",
      "base_model.model.transformer.h.22.input_layernorm.weight\n",
      "base_model.model.transformer.h.22.input_layernorm.bias\n",
      "base_model.model.transformer.h.22.self_attention.query_key_value.base_layer.weight\n",
      "base_model.model.transformer.h.22.self_attention.query_key_value.base_layer.bias\n",
      "base_model.model.transformer.h.22.self_attention.query_key_value.lora_A.default.weight\n",
      "base_model.model.transformer.h.22.self_attention.query_key_value.lora_B.default.weight\n",
      "base_model.model.transformer.h.22.self_attention.dense.weight\n",
      "base_model.model.transformer.h.22.self_attention.dense.bias\n",
      "base_model.model.transformer.h.22.post_attention_layernorm.weight\n",
      "base_model.model.transformer.h.22.post_attention_layernorm.bias\n",
      "base_model.model.transformer.h.22.mlp.dense_h_to_4h.weight\n",
      "base_model.model.transformer.h.22.mlp.dense_h_to_4h.bias\n",
      "base_model.model.transformer.h.22.mlp.dense_4h_to_h.weight\n",
      "base_model.model.transformer.h.22.mlp.dense_4h_to_h.bias\n",
      "base_model.model.transformer.h.23.input_layernorm.weight\n",
      "base_model.model.transformer.h.23.input_layernorm.bias\n",
      "base_model.model.transformer.h.23.self_attention.query_key_value.base_layer.weight\n",
      "base_model.model.transformer.h.23.self_attention.query_key_value.base_layer.bias\n",
      "base_model.model.transformer.h.23.self_attention.query_key_value.lora_A.default.weight\n",
      "base_model.model.transformer.h.23.self_attention.query_key_value.lora_B.default.weight\n",
      "base_model.model.transformer.h.23.self_attention.dense.weight\n",
      "base_model.model.transformer.h.23.self_attention.dense.bias\n",
      "base_model.model.transformer.h.23.post_attention_layernorm.weight\n",
      "base_model.model.transformer.h.23.post_attention_layernorm.bias\n",
      "base_model.model.transformer.h.23.mlp.dense_h_to_4h.weight\n",
      "base_model.model.transformer.h.23.mlp.dense_h_to_4h.bias\n",
      "base_model.model.transformer.h.23.mlp.dense_4h_to_h.weight\n",
      "base_model.model.transformer.h.23.mlp.dense_4h_to_h.bias\n",
      "base_model.model.transformer.ln_f.weight\n",
      "base_model.model.transformer.ln_f.bias\n"
     ]
    }
   ],
   "source": [
    "for name, parameter in model.named_parameters():\n",
    "    print(name)"
   ]
  },
  {
   "cell_type": "markdown",
   "metadata": {},
   "source": [
    "## Lora"
   ]
  },
  {
   "cell_type": "markdown",
   "metadata": {},
   "source": [
    "### PEFT Step1 配置文件"
   ]
  },
  {
   "cell_type": "code",
   "execution_count": 27,
   "metadata": {
    "tags": []
   },
   "outputs": [
    {
     "data": {
      "text/plain": [
       "LoraConfig(peft_type=<PeftType.LORA: 'LORA'>, auto_mapping=None, base_model_name_or_path=None, revision=None, task_type=<TaskType.CAUSAL_LM: 'CAUSAL_LM'>, inference_mode=False, r=8, target_modules={'query_key_value', 'dense_4h_to_h'}, lora_alpha=8, lora_dropout=0.0, fan_in_fan_out=False, bias='none', modules_to_save=None, init_lora_weights=True, layers_to_transform=None, layers_pattern=None, rank_pattern={}, alpha_pattern={}, megatron_config=None, megatron_core='megatron.core', loftq_config={})"
      ]
     },
     "execution_count": 27,
     "metadata": {},
     "output_type": "execute_result"
    }
   ],
   "source": [
    "from peft import LoraConfig, TaskType, get_peft_model\n",
    "## ,target_modules=[\"query_key_value\"],r=8\n",
    "config = LoraConfig(task_type=TaskType.CAUSAL_LM,r=8, target_modules=['query_key_value','dense_4h_to_h'])\n",
    "config"
   ]
  },
  {
   "cell_type": "markdown",
   "metadata": {},
   "source": [
    "### PEFT Step2 创建模型"
   ]
  },
  {
   "cell_type": "code",
   "execution_count": 28,
   "metadata": {
    "tags": []
   },
   "outputs": [
    {
     "data": {
      "text/plain": [
       "PeftModelForCausalLM(\n",
       "  (base_model): LoraModel(\n",
       "    (model): PeftModelForCausalLM(\n",
       "      (base_model): LoraModel(\n",
       "        (model): BloomForCausalLM(\n",
       "          (transformer): BloomModel(\n",
       "            (word_embeddings): Embedding(46145, 2048)\n",
       "            (word_embeddings_layernorm): LayerNorm((2048,), eps=1e-05, elementwise_affine=True)\n",
       "            (h): ModuleList(\n",
       "              (0-23): 24 x BloomBlock(\n",
       "                (input_layernorm): LayerNorm((2048,), eps=1e-05, elementwise_affine=True)\n",
       "                (self_attention): BloomAttention(\n",
       "                  (query_key_value): lora.Linear(\n",
       "                    (base_layer): Linear(in_features=2048, out_features=6144, bias=True)\n",
       "                    (lora_dropout): ModuleDict(\n",
       "                      (default): Identity()\n",
       "                    )\n",
       "                    (lora_A): ModuleDict(\n",
       "                      (default): Linear(in_features=2048, out_features=8, bias=False)\n",
       "                    )\n",
       "                    (lora_B): ModuleDict(\n",
       "                      (default): Linear(in_features=8, out_features=6144, bias=False)\n",
       "                    )\n",
       "                    (lora_embedding_A): ParameterDict()\n",
       "                    (lora_embedding_B): ParameterDict()\n",
       "                  )\n",
       "                  (dense): Linear(in_features=2048, out_features=2048, bias=True)\n",
       "                  (attention_dropout): Dropout(p=0.0, inplace=False)\n",
       "                )\n",
       "                (post_attention_layernorm): LayerNorm((2048,), eps=1e-05, elementwise_affine=True)\n",
       "                (mlp): BloomMLP(\n",
       "                  (dense_h_to_4h): Linear(in_features=2048, out_features=8192, bias=True)\n",
       "                  (gelu_impl): BloomGelu()\n",
       "                  (dense_4h_to_h): lora.Linear(\n",
       "                    (base_layer): Linear(in_features=8192, out_features=2048, bias=True)\n",
       "                    (lora_dropout): ModuleDict(\n",
       "                      (default): Identity()\n",
       "                    )\n",
       "                    (lora_A): ModuleDict(\n",
       "                      (default): Linear(in_features=8192, out_features=8, bias=False)\n",
       "                    )\n",
       "                    (lora_B): ModuleDict(\n",
       "                      (default): Linear(in_features=8, out_features=2048, bias=False)\n",
       "                    )\n",
       "                    (lora_embedding_A): ParameterDict()\n",
       "                    (lora_embedding_B): ParameterDict()\n",
       "                  )\n",
       "                )\n",
       "              )\n",
       "            )\n",
       "            (ln_f): LayerNorm((2048,), eps=1e-05, elementwise_affine=True)\n",
       "          )\n",
       "          (lm_head): Linear(in_features=2048, out_features=46145, bias=False)\n",
       "        )\n",
       "      )\n",
       "    )\n",
       "  )\n",
       ")"
      ]
     },
     "execution_count": 28,
     "metadata": {},
     "output_type": "execute_result"
    }
   ],
   "source": [
    "model = get_peft_model(model, config)\n",
    "model"
   ]
  },
  {
   "cell_type": "code",
   "execution_count": 29,
   "metadata": {
    "tags": []
   },
   "outputs": [
    {
     "data": {
      "text/plain": [
       "LoraConfig(peft_type=<PeftType.LORA: 'LORA'>, auto_mapping=None, base_model_name_or_path=None, revision=None, task_type=<TaskType.CAUSAL_LM: 'CAUSAL_LM'>, inference_mode=False, r=8, target_modules={'query_key_value', 'dense_4h_to_h'}, lora_alpha=8, lora_dropout=0.0, fan_in_fan_out=False, bias='none', modules_to_save=None, init_lora_weights=True, layers_to_transform=None, layers_pattern=None, rank_pattern={}, alpha_pattern={}, megatron_config=None, megatron_core='megatron.core', loftq_config={})"
      ]
     },
     "execution_count": 29,
     "metadata": {},
     "output_type": "execute_result"
    }
   ],
   "source": [
    "config"
   ]
  },
  {
   "cell_type": "markdown",
   "metadata": {},
   "source": [
    "## Step5 配置训练参数"
   ]
  },
  {
   "cell_type": "code",
   "execution_count": 33,
   "metadata": {
    "tags": []
   },
   "outputs": [],
   "source": [
    "args = TrainingArguments(\n",
    "    output_dir=\"/root/autodl-tmp/tuningdata/lora\",\n",
    "    per_device_train_batch_size=4,\n",
    "    gradient_accumulation_steps=8,\n",
    "    logging_steps=20,\n",
    "    num_train_epochs=1\n",
    ")"
   ]
  },
  {
   "cell_type": "markdown",
   "metadata": {},
   "source": [
    "## Step6 创建训练器"
   ]
  },
  {
   "cell_type": "code",
   "execution_count": 34,
   "metadata": {
    "tags": []
   },
   "outputs": [],
   "source": [
    "trainer = Trainer(\n",
    "    model=model,\n",
    "    args=args,\n",
    "    train_dataset=tokenized_ds,\n",
    "    data_collator=DataCollatorForSeq2Seq(tokenizer=tokenizer, padding=True),\n",
    ")"
   ]
  },
  {
   "cell_type": "markdown",
   "metadata": {},
   "source": [
    "## Step7 模型训练"
   ]
  },
  {
   "cell_type": "code",
   "execution_count": 35,
   "metadata": {
    "tags": []
   },
   "outputs": [
    {
     "data": {
      "text/html": [
       "\n",
       "    <div>\n",
       "      \n",
       "      <progress value='839' max='839' style='width:300px; height:20px; vertical-align: middle;'></progress>\n",
       "      [839/839 10:30, Epoch 0/1]\n",
       "    </div>\n",
       "    <table border=\"1\" class=\"dataframe\">\n",
       "  <thead>\n",
       " <tr style=\"text-align: left;\">\n",
       "      <th>Step</th>\n",
       "      <th>Training Loss</th>\n",
       "    </tr>\n",
       "  </thead>\n",
       "  <tbody>\n",
       "    <tr>\n",
       "      <td>20</td>\n",
       "      <td>2.739200</td>\n",
       "    </tr>\n",
       "    <tr>\n",
       "      <td>40</td>\n",
       "      <td>2.527800</td>\n",
       "    </tr>\n",
       "    <tr>\n",
       "      <td>60</td>\n",
       "      <td>2.468100</td>\n",
       "    </tr>\n",
       "    <tr>\n",
       "      <td>80</td>\n",
       "      <td>2.418900</td>\n",
       "    </tr>\n",
       "    <tr>\n",
       "      <td>100</td>\n",
       "      <td>2.392900</td>\n",
       "    </tr>\n",
       "    <tr>\n",
       "      <td>120</td>\n",
       "      <td>2.347700</td>\n",
       "    </tr>\n",
       "    <tr>\n",
       "      <td>140</td>\n",
       "      <td>2.391700</td>\n",
       "    </tr>\n",
       "    <tr>\n",
       "      <td>160</td>\n",
       "      <td>2.381300</td>\n",
       "    </tr>\n",
       "    <tr>\n",
       "      <td>180</td>\n",
       "      <td>2.327900</td>\n",
       "    </tr>\n",
       "    <tr>\n",
       "      <td>200</td>\n",
       "      <td>2.365500</td>\n",
       "    </tr>\n",
       "    <tr>\n",
       "      <td>220</td>\n",
       "      <td>2.339400</td>\n",
       "    </tr>\n",
       "    <tr>\n",
       "      <td>240</td>\n",
       "      <td>2.310100</td>\n",
       "    </tr>\n",
       "    <tr>\n",
       "      <td>260</td>\n",
       "      <td>2.273200</td>\n",
       "    </tr>\n",
       "    <tr>\n",
       "      <td>280</td>\n",
       "      <td>2.238400</td>\n",
       "    </tr>\n",
       "    <tr>\n",
       "      <td>300</td>\n",
       "      <td>2.304300</td>\n",
       "    </tr>\n",
       "    <tr>\n",
       "      <td>320</td>\n",
       "      <td>2.270600</td>\n",
       "    </tr>\n",
       "    <tr>\n",
       "      <td>340</td>\n",
       "      <td>2.253900</td>\n",
       "    </tr>\n",
       "    <tr>\n",
       "      <td>360</td>\n",
       "      <td>2.342100</td>\n",
       "    </tr>\n",
       "    <tr>\n",
       "      <td>380</td>\n",
       "      <td>2.274900</td>\n",
       "    </tr>\n",
       "    <tr>\n",
       "      <td>400</td>\n",
       "      <td>2.271100</td>\n",
       "    </tr>\n",
       "    <tr>\n",
       "      <td>420</td>\n",
       "      <td>2.244400</td>\n",
       "    </tr>\n",
       "    <tr>\n",
       "      <td>440</td>\n",
       "      <td>2.239500</td>\n",
       "    </tr>\n",
       "    <tr>\n",
       "      <td>460</td>\n",
       "      <td>2.268600</td>\n",
       "    </tr>\n",
       "    <tr>\n",
       "      <td>480</td>\n",
       "      <td>2.304300</td>\n",
       "    </tr>\n",
       "    <tr>\n",
       "      <td>500</td>\n",
       "      <td>2.249000</td>\n",
       "    </tr>\n",
       "    <tr>\n",
       "      <td>520</td>\n",
       "      <td>2.223900</td>\n",
       "    </tr>\n",
       "    <tr>\n",
       "      <td>540</td>\n",
       "      <td>2.255800</td>\n",
       "    </tr>\n",
       "    <tr>\n",
       "      <td>560</td>\n",
       "      <td>2.186800</td>\n",
       "    </tr>\n",
       "    <tr>\n",
       "      <td>580</td>\n",
       "      <td>2.212500</td>\n",
       "    </tr>\n",
       "    <tr>\n",
       "      <td>600</td>\n",
       "      <td>2.242400</td>\n",
       "    </tr>\n",
       "    <tr>\n",
       "      <td>620</td>\n",
       "      <td>2.272000</td>\n",
       "    </tr>\n",
       "    <tr>\n",
       "      <td>640</td>\n",
       "      <td>2.260600</td>\n",
       "    </tr>\n",
       "    <tr>\n",
       "      <td>660</td>\n",
       "      <td>2.280800</td>\n",
       "    </tr>\n",
       "    <tr>\n",
       "      <td>680</td>\n",
       "      <td>2.252400</td>\n",
       "    </tr>\n",
       "    <tr>\n",
       "      <td>700</td>\n",
       "      <td>2.245700</td>\n",
       "    </tr>\n",
       "    <tr>\n",
       "      <td>720</td>\n",
       "      <td>2.250700</td>\n",
       "    </tr>\n",
       "    <tr>\n",
       "      <td>740</td>\n",
       "      <td>2.235500</td>\n",
       "    </tr>\n",
       "    <tr>\n",
       "      <td>760</td>\n",
       "      <td>2.255800</td>\n",
       "    </tr>\n",
       "    <tr>\n",
       "      <td>780</td>\n",
       "      <td>2.231900</td>\n",
       "    </tr>\n",
       "    <tr>\n",
       "      <td>800</td>\n",
       "      <td>2.209400</td>\n",
       "    </tr>\n",
       "    <tr>\n",
       "      <td>820</td>\n",
       "      <td>2.264300</td>\n",
       "    </tr>\n",
       "  </tbody>\n",
       "</table><p>"
      ],
      "text/plain": [
       "<IPython.core.display.HTML object>"
      ]
     },
     "metadata": {},
     "output_type": "display_data"
    },
    {
     "data": {
      "text/plain": [
       "TrainOutput(global_step=839, training_loss=2.3011901409890285, metrics={'train_runtime': 631.4551, 'train_samples_per_second': 42.534, 'train_steps_per_second': 1.329, 'total_flos': 2.332090680213504e+16, 'train_loss': 2.3011901409890285, 'epoch': 1.0})"
      ]
     },
     "execution_count": 35,
     "metadata": {},
     "output_type": "execute_result"
    }
   ],
   "source": [
    "trainer.train()"
   ]
  },
  {
   "cell_type": "markdown",
   "metadata": {},
   "source": [
    "## Step8 模型推理"
   ]
  },
  {
   "cell_type": "code",
   "execution_count": 37,
   "metadata": {},
   "outputs": [
    {
     "name": "stderr",
     "output_type": "stream",
     "text": [
      "The model 'PeftModelForCausalLM' is not supported for text-generation. Supported models are ['BartForCausalLM', 'BertLMHeadModel', 'BertGenerationDecoder', 'BigBirdForCausalLM', 'BigBirdPegasusForCausalLM', 'BioGptForCausalLM', 'BlenderbotForCausalLM', 'BlenderbotSmallForCausalLM', 'BloomForCausalLM', 'CamembertForCausalLM', 'LlamaForCausalLM', 'CodeGenForCausalLM', 'CpmAntForCausalLM', 'CTRLLMHeadModel', 'Data2VecTextForCausalLM', 'ElectraForCausalLM', 'ErnieForCausalLM', 'FalconForCausalLM', 'FuyuForCausalLM', 'GitForCausalLM', 'GPT2LMHeadModel', 'GPT2LMHeadModel', 'GPTBigCodeForCausalLM', 'GPTNeoForCausalLM', 'GPTNeoXForCausalLM', 'GPTNeoXJapaneseForCausalLM', 'GPTJForCausalLM', 'LlamaForCausalLM', 'MarianForCausalLM', 'MBartForCausalLM', 'MegaForCausalLM', 'MegatronBertForCausalLM', 'MistralForCausalLM', 'MptForCausalLM', 'MusicgenForCausalLM', 'MvpForCausalLM', 'OpenLlamaForCausalLM', 'OpenAIGPTLMHeadModel', 'OPTForCausalLM', 'PegasusForCausalLM', 'PersimmonForCausalLM', 'PLBartForCausalLM', 'ProphetNetForCausalLM', 'QDQBertLMHeadModel', 'ReformerModelWithLMHead', 'RemBertForCausalLM', 'RobertaForCausalLM', 'RobertaPreLayerNormForCausalLM', 'RoCBertForCausalLM', 'RoFormerForCausalLM', 'RwkvForCausalLM', 'Speech2Text2ForCausalLM', 'TransfoXLLMHeadModel', 'TrOCRForCausalLM', 'WhisperForCausalLM', 'XGLMForCausalLM', 'XLMWithLMHeadModel', 'XLMProphetNetForCausalLM', 'XLMRobertaForCausalLM', 'XLMRobertaXLForCausalLM', 'XLNetLMHeadModel', 'XmodForCausalLM'].\n"
     ]
    },
    {
     "data": {
      "text/plain": [
       "[{'generated_text': 'Human: 如何写好一个简历？\\n\\nAssistant: 一篇好的简历应包含以下内容：个人信息（姓名，出生日期，出生地，教育经历，工作经历）、求职理由、个人能力（如语言能力，英语水平，操作技能，编程能力，市场营销能力，分析归纳能力等）、学习经历、实践经历和经验、荣誉奖项、相关证书和荣誉、个人兴趣爱好以及在工作中遇到的瓶颈和障碍。\\n\\n在书写时，应注意文字简洁、条理清晰，突出重点，语言流畅。您也可以在简历中附上一些相关的个人照片或照片资料以供他人参考。如果您有任何疑问，请随时与我联系。'}]"
      ]
     },
     "execution_count": 37,
     "metadata": {},
     "output_type": "execute_result"
    }
   ],
   "source": [
    "from transformers import pipeline\n",
    "\n",
    "pipe = pipeline(\"text-generation\", model=model, tokenizer=tokenizer, device=0)\n",
    "\n",
    "ipt = \"Human: {}\\n{}\".format(\"如何写好一个简历？\", \"\").strip() + \"\\n\\nAssistant: \"\n",
    "pipe(ipt, max_length=256, do_sample=True, )"
   ]
  },
  {
   "cell_type": "code",
   "execution_count": null,
   "metadata": {},
   "outputs": [],
   "source": []
  }
 ],
 "metadata": {
  "kernelspec": {
   "display_name": "Python 3 (ipykernel)",
   "language": "python",
   "name": "python3"
  },
  "language_info": {
   "codemirror_mode": {
    "name": "ipython",
    "version": 3
   },
   "file_extension": ".py",
   "mimetype": "text/x-python",
   "name": "python",
   "nbconvert_exporter": "python",
   "pygments_lexer": "ipython3",
   "version": "3.10.8"
  }
 },
 "nbformat": 4,
 "nbformat_minor": 4
}
