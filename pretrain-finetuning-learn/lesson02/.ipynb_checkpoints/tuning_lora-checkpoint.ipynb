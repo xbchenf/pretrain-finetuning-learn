{
 "cells": [
  {
   "cell_type": "markdown",
   "metadata": {},
   "source": [
    "# Lora 实战"
   ]
  },
  {
   "cell_type": "markdown",
   "metadata": {},
   "source": [
    "## Step1 导入相关包"
   ]
  },
  {
   "cell_type": "code",
   "execution_count": 1,
   "metadata": {
    "tags": []
   },
   "outputs": [],
   "source": [
    "## 学术资源加速\n",
    "import subprocess\n",
    "import os\n",
    "\n",
    "result = subprocess.run('bash -c \"source /etc/network_turbo && env | grep proxy\"', shell=True, capture_output=True, text=True)\n",
    "output = result.stdout\n",
    "for line in output.splitlines():\n",
    "    if '=' in line:\n",
    "        var, value = line.split('=', 1)\n",
    "        os.environ[var] = value"
   ]
  },
  {
   "cell_type": "code",
   "execution_count": 2,
   "metadata": {
    "tags": []
   },
   "outputs": [],
   "source": [
    "from datasets import Dataset\n",
    "from transformers import AutoTokenizer, AutoModelForCausalLM, DataCollatorForSeq2Seq, TrainingArguments, Trainer"
   ]
  },
  {
   "cell_type": "markdown",
   "metadata": {},
   "source": [
    "## Step2 加载数据集"
   ]
  },
  {
   "cell_type": "code",
   "execution_count": 3,
   "metadata": {
    "tags": []
   },
   "outputs": [
    {
     "data": {
      "text/plain": [
       "Dataset({\n",
       "    features: ['output', 'input', 'instruction'],\n",
       "    num_rows: 26858\n",
       "})"
      ]
     },
     "execution_count": 3,
     "metadata": {},
     "output_type": "execute_result"
    }
   ],
   "source": [
    "ds = Dataset.load_from_disk(\"/root/tuning/lesson01/data/alpaca_data_zh/\")\n",
    "ds"
   ]
  },
  {
   "cell_type": "code",
   "execution_count": 4,
   "metadata": {
    "tags": []
   },
   "outputs": [
    {
     "data": {
      "text/plain": [
       "{'output': ['以下是保持健康的三个提示：\\n\\n1. 保持身体活动。每天做适当的身体运动，如散步、跑步或游泳，能促进心血管健康，增强肌肉力量，并有助于减少体重。\\n\\n2. 均衡饮食。每天食用新鲜的蔬菜、水果、全谷物和脂肪含量低的蛋白质食物，避免高糖、高脂肪和加工食品，以保持健康的饮食习惯。\\n\\n3. 睡眠充足。睡眠对人体健康至关重要，成年人每天应保证 7-8 小时的睡眠。良好的睡眠有助于减轻压力，促进身体恢复，并提高注意力和记忆力。'],\n",
       " 'input': [''],\n",
       " 'instruction': ['保持健康的三个提示。']}"
      ]
     },
     "execution_count": 4,
     "metadata": {},
     "output_type": "execute_result"
    }
   ],
   "source": [
    "ds[:1]"
   ]
  },
  {
   "cell_type": "markdown",
   "metadata": {},
   "source": [
    "## Step3 数据集预处理"
   ]
  },
  {
   "cell_type": "code",
   "execution_count": 4,
   "metadata": {
    "tags": []
   },
   "outputs": [
    {
     "data": {
      "text/plain": [
       "BloomTokenizerFast(name_or_path='Langboat/bloom-1b4-zh', vocab_size=46145, model_max_length=1000000000000000019884624838656, is_fast=True, padding_side='left', truncation_side='right', special_tokens={'bos_token': '<s>', 'eos_token': '</s>', 'unk_token': '<unk>', 'pad_token': '<pad>'}, clean_up_tokenization_spaces=False),  added_tokens_decoder={\n",
       "\t0: AddedToken(\"<unk>\", rstrip=False, lstrip=False, single_word=False, normalized=False, special=True),\n",
       "\t1: AddedToken(\"<s>\", rstrip=False, lstrip=False, single_word=False, normalized=False, special=True),\n",
       "\t2: AddedToken(\"</s>\", rstrip=False, lstrip=False, single_word=False, normalized=False, special=True),\n",
       "\t3: AddedToken(\"<pad>\", rstrip=False, lstrip=False, single_word=False, normalized=False, special=True),\n",
       "}"
      ]
     },
     "execution_count": 4,
     "metadata": {},
     "output_type": "execute_result"
    }
   ],
   "source": [
    "tokenizer = AutoTokenizer.from_pretrained(\"Langboat/bloom-1b4-zh\")\n",
    "tokenizer"
   ]
  },
  {
   "cell_type": "code",
   "execution_count": 5,
   "metadata": {
    "tags": []
   },
   "outputs": [],
   "source": [
    "def process_func(example):\n",
    "    MAX_LENGTH = 256\n",
    "    input_ids, attention_mask, labels = [], [], []\n",
    "    instruction = tokenizer(\"\\n\".join([\"Human: \" + example[\"instruction\"], example[\"input\"]]).strip() + \"\\n\\nAssistant: \")\n",
    "    response = tokenizer(example[\"output\"] + tokenizer.eos_token)\n",
    "    input_ids = instruction[\"input_ids\"] + response[\"input_ids\"]\n",
    "    attention_mask = instruction[\"attention_mask\"] + response[\"attention_mask\"]\n",
    "    labels = [-100] * len(instruction[\"input_ids\"]) + response[\"input_ids\"]\n",
    "    if len(input_ids) > MAX_LENGTH:\n",
    "        input_ids = input_ids[:MAX_LENGTH]\n",
    "        attention_mask = attention_mask[:MAX_LENGTH]\n",
    "        labels = labels[:MAX_LENGTH]\n",
    "    return {\n",
    "        \"input_ids\": input_ids,\n",
    "        \"attention_mask\": attention_mask,\n",
    "        \"labels\": labels\n",
    "    }"
   ]
  },
  {
   "cell_type": "code",
   "execution_count": 6,
   "metadata": {
    "tags": []
   },
   "outputs": [
    {
     "data": {
      "text/plain": [
       "Dataset({\n",
       "    features: ['input_ids', 'attention_mask', 'labels'],\n",
       "    num_rows: 26858\n",
       "})"
      ]
     },
     "execution_count": 6,
     "metadata": {},
     "output_type": "execute_result"
    }
   ],
   "source": [
    "tokenized_ds = ds.map(process_func, remove_columns=ds.column_names)\n",
    "tokenized_ds"
   ]
  },
  {
   "cell_type": "markdown",
   "metadata": {},
   "source": [
    "## Step4 创建模型"
   ]
  },
  {
   "cell_type": "code",
   "execution_count": 7,
   "metadata": {
    "tags": []
   },
   "outputs": [],
   "source": [
    "model = AutoModelForCausalLM.from_pretrained(\"Langboat/bloom-1b4-zh\", low_cpu_mem_usage=True)"
   ]
  },
  {
   "cell_type": "code",
   "execution_count": 24,
   "metadata": {
    "collapsed": true,
    "jupyter": {
     "outputs_hidden": true
    },
    "tags": []
   },
   "outputs": [
    {
     "name": "stdout",
     "output_type": "stream",
     "text": [
      "transformer.word_embeddings.weight\n",
      "transformer.word_embeddings_layernorm.weight\n",
      "transformer.word_embeddings_layernorm.bias\n",
      "transformer.h.0.input_layernorm.weight\n",
      "transformer.h.0.input_layernorm.bias\n",
      "transformer.h.0.self_attention.query_key_value.weight\n",
      "transformer.h.0.self_attention.query_key_value.bias\n",
      "transformer.h.0.self_attention.dense.weight\n",
      "transformer.h.0.self_attention.dense.bias\n",
      "transformer.h.0.post_attention_layernorm.weight\n",
      "transformer.h.0.post_attention_layernorm.bias\n",
      "transformer.h.0.mlp.dense_h_to_4h.weight\n",
      "transformer.h.0.mlp.dense_h_to_4h.bias\n",
      "transformer.h.0.mlp.dense_4h_to_h.weight\n",
      "transformer.h.0.mlp.dense_4h_to_h.bias\n",
      "transformer.h.1.input_layernorm.weight\n",
      "transformer.h.1.input_layernorm.bias\n",
      "transformer.h.1.self_attention.query_key_value.weight\n",
      "transformer.h.1.self_attention.query_key_value.bias\n",
      "transformer.h.1.self_attention.dense.weight\n",
      "transformer.h.1.self_attention.dense.bias\n",
      "transformer.h.1.post_attention_layernorm.weight\n",
      "transformer.h.1.post_attention_layernorm.bias\n",
      "transformer.h.1.mlp.dense_h_to_4h.weight\n",
      "transformer.h.1.mlp.dense_h_to_4h.bias\n",
      "transformer.h.1.mlp.dense_4h_to_h.weight\n",
      "transformer.h.1.mlp.dense_4h_to_h.bias\n",
      "transformer.h.2.input_layernorm.weight\n",
      "transformer.h.2.input_layernorm.bias\n",
      "transformer.h.2.self_attention.query_key_value.weight\n",
      "transformer.h.2.self_attention.query_key_value.bias\n",
      "transformer.h.2.self_attention.dense.weight\n",
      "transformer.h.2.self_attention.dense.bias\n",
      "transformer.h.2.post_attention_layernorm.weight\n",
      "transformer.h.2.post_attention_layernorm.bias\n",
      "transformer.h.2.mlp.dense_h_to_4h.weight\n",
      "transformer.h.2.mlp.dense_h_to_4h.bias\n",
      "transformer.h.2.mlp.dense_4h_to_h.weight\n",
      "transformer.h.2.mlp.dense_4h_to_h.bias\n",
      "transformer.h.3.input_layernorm.weight\n",
      "transformer.h.3.input_layernorm.bias\n",
      "transformer.h.3.self_attention.query_key_value.weight\n",
      "transformer.h.3.self_attention.query_key_value.bias\n",
      "transformer.h.3.self_attention.dense.weight\n",
      "transformer.h.3.self_attention.dense.bias\n",
      "transformer.h.3.post_attention_layernorm.weight\n",
      "transformer.h.3.post_attention_layernorm.bias\n",
      "transformer.h.3.mlp.dense_h_to_4h.weight\n",
      "transformer.h.3.mlp.dense_h_to_4h.bias\n",
      "transformer.h.3.mlp.dense_4h_to_h.weight\n",
      "transformer.h.3.mlp.dense_4h_to_h.bias\n",
      "transformer.h.4.input_layernorm.weight\n",
      "transformer.h.4.input_layernorm.bias\n",
      "transformer.h.4.self_attention.query_key_value.weight\n",
      "transformer.h.4.self_attention.query_key_value.bias\n",
      "transformer.h.4.self_attention.dense.weight\n",
      "transformer.h.4.self_attention.dense.bias\n",
      "transformer.h.4.post_attention_layernorm.weight\n",
      "transformer.h.4.post_attention_layernorm.bias\n",
      "transformer.h.4.mlp.dense_h_to_4h.weight\n",
      "transformer.h.4.mlp.dense_h_to_4h.bias\n",
      "transformer.h.4.mlp.dense_4h_to_h.weight\n",
      "transformer.h.4.mlp.dense_4h_to_h.bias\n",
      "transformer.h.5.input_layernorm.weight\n",
      "transformer.h.5.input_layernorm.bias\n",
      "transformer.h.5.self_attention.query_key_value.weight\n",
      "transformer.h.5.self_attention.query_key_value.bias\n",
      "transformer.h.5.self_attention.dense.weight\n",
      "transformer.h.5.self_attention.dense.bias\n",
      "transformer.h.5.post_attention_layernorm.weight\n",
      "transformer.h.5.post_attention_layernorm.bias\n",
      "transformer.h.5.mlp.dense_h_to_4h.weight\n",
      "transformer.h.5.mlp.dense_h_to_4h.bias\n",
      "transformer.h.5.mlp.dense_4h_to_h.weight\n",
      "transformer.h.5.mlp.dense_4h_to_h.bias\n",
      "transformer.h.6.input_layernorm.weight\n",
      "transformer.h.6.input_layernorm.bias\n",
      "transformer.h.6.self_attention.query_key_value.weight\n",
      "transformer.h.6.self_attention.query_key_value.bias\n",
      "transformer.h.6.self_attention.dense.weight\n",
      "transformer.h.6.self_attention.dense.bias\n",
      "transformer.h.6.post_attention_layernorm.weight\n",
      "transformer.h.6.post_attention_layernorm.bias\n",
      "transformer.h.6.mlp.dense_h_to_4h.weight\n",
      "transformer.h.6.mlp.dense_h_to_4h.bias\n",
      "transformer.h.6.mlp.dense_4h_to_h.weight\n",
      "transformer.h.6.mlp.dense_4h_to_h.bias\n",
      "transformer.h.7.input_layernorm.weight\n",
      "transformer.h.7.input_layernorm.bias\n",
      "transformer.h.7.self_attention.query_key_value.weight\n",
      "transformer.h.7.self_attention.query_key_value.bias\n",
      "transformer.h.7.self_attention.dense.weight\n",
      "transformer.h.7.self_attention.dense.bias\n",
      "transformer.h.7.post_attention_layernorm.weight\n",
      "transformer.h.7.post_attention_layernorm.bias\n",
      "transformer.h.7.mlp.dense_h_to_4h.weight\n",
      "transformer.h.7.mlp.dense_h_to_4h.bias\n",
      "transformer.h.7.mlp.dense_4h_to_h.weight\n",
      "transformer.h.7.mlp.dense_4h_to_h.bias\n",
      "transformer.h.8.input_layernorm.weight\n",
      "transformer.h.8.input_layernorm.bias\n",
      "transformer.h.8.self_attention.query_key_value.weight\n",
      "transformer.h.8.self_attention.query_key_value.bias\n",
      "transformer.h.8.self_attention.dense.weight\n",
      "transformer.h.8.self_attention.dense.bias\n",
      "transformer.h.8.post_attention_layernorm.weight\n",
      "transformer.h.8.post_attention_layernorm.bias\n",
      "transformer.h.8.mlp.dense_h_to_4h.weight\n",
      "transformer.h.8.mlp.dense_h_to_4h.bias\n",
      "transformer.h.8.mlp.dense_4h_to_h.weight\n",
      "transformer.h.8.mlp.dense_4h_to_h.bias\n",
      "transformer.h.9.input_layernorm.weight\n",
      "transformer.h.9.input_layernorm.bias\n",
      "transformer.h.9.self_attention.query_key_value.weight\n",
      "transformer.h.9.self_attention.query_key_value.bias\n",
      "transformer.h.9.self_attention.dense.weight\n",
      "transformer.h.9.self_attention.dense.bias\n",
      "transformer.h.9.post_attention_layernorm.weight\n",
      "transformer.h.9.post_attention_layernorm.bias\n",
      "transformer.h.9.mlp.dense_h_to_4h.weight\n",
      "transformer.h.9.mlp.dense_h_to_4h.bias\n",
      "transformer.h.9.mlp.dense_4h_to_h.weight\n",
      "transformer.h.9.mlp.dense_4h_to_h.bias\n",
      "transformer.h.10.input_layernorm.weight\n",
      "transformer.h.10.input_layernorm.bias\n",
      "transformer.h.10.self_attention.query_key_value.weight\n",
      "transformer.h.10.self_attention.query_key_value.bias\n",
      "transformer.h.10.self_attention.dense.weight\n",
      "transformer.h.10.self_attention.dense.bias\n",
      "transformer.h.10.post_attention_layernorm.weight\n",
      "transformer.h.10.post_attention_layernorm.bias\n",
      "transformer.h.10.mlp.dense_h_to_4h.weight\n",
      "transformer.h.10.mlp.dense_h_to_4h.bias\n",
      "transformer.h.10.mlp.dense_4h_to_h.weight\n",
      "transformer.h.10.mlp.dense_4h_to_h.bias\n",
      "transformer.h.11.input_layernorm.weight\n",
      "transformer.h.11.input_layernorm.bias\n",
      "transformer.h.11.self_attention.query_key_value.weight\n",
      "transformer.h.11.self_attention.query_key_value.bias\n",
      "transformer.h.11.self_attention.dense.weight\n",
      "transformer.h.11.self_attention.dense.bias\n",
      "transformer.h.11.post_attention_layernorm.weight\n",
      "transformer.h.11.post_attention_layernorm.bias\n",
      "transformer.h.11.mlp.dense_h_to_4h.weight\n",
      "transformer.h.11.mlp.dense_h_to_4h.bias\n",
      "transformer.h.11.mlp.dense_4h_to_h.weight\n",
      "transformer.h.11.mlp.dense_4h_to_h.bias\n",
      "transformer.h.12.input_layernorm.weight\n",
      "transformer.h.12.input_layernorm.bias\n",
      "transformer.h.12.self_attention.query_key_value.weight\n",
      "transformer.h.12.self_attention.query_key_value.bias\n",
      "transformer.h.12.self_attention.dense.weight\n",
      "transformer.h.12.self_attention.dense.bias\n",
      "transformer.h.12.post_attention_layernorm.weight\n",
      "transformer.h.12.post_attention_layernorm.bias\n",
      "transformer.h.12.mlp.dense_h_to_4h.weight\n",
      "transformer.h.12.mlp.dense_h_to_4h.bias\n",
      "transformer.h.12.mlp.dense_4h_to_h.weight\n",
      "transformer.h.12.mlp.dense_4h_to_h.bias\n",
      "transformer.h.13.input_layernorm.weight\n",
      "transformer.h.13.input_layernorm.bias\n",
      "transformer.h.13.self_attention.query_key_value.weight\n",
      "transformer.h.13.self_attention.query_key_value.bias\n",
      "transformer.h.13.self_attention.dense.weight\n",
      "transformer.h.13.self_attention.dense.bias\n",
      "transformer.h.13.post_attention_layernorm.weight\n",
      "transformer.h.13.post_attention_layernorm.bias\n",
      "transformer.h.13.mlp.dense_h_to_4h.weight\n",
      "transformer.h.13.mlp.dense_h_to_4h.bias\n",
      "transformer.h.13.mlp.dense_4h_to_h.weight\n",
      "transformer.h.13.mlp.dense_4h_to_h.bias\n",
      "transformer.h.14.input_layernorm.weight\n",
      "transformer.h.14.input_layernorm.bias\n",
      "transformer.h.14.self_attention.query_key_value.weight\n",
      "transformer.h.14.self_attention.query_key_value.bias\n",
      "transformer.h.14.self_attention.dense.weight\n",
      "transformer.h.14.self_attention.dense.bias\n",
      "transformer.h.14.post_attention_layernorm.weight\n",
      "transformer.h.14.post_attention_layernorm.bias\n",
      "transformer.h.14.mlp.dense_h_to_4h.weight\n",
      "transformer.h.14.mlp.dense_h_to_4h.bias\n",
      "transformer.h.14.mlp.dense_4h_to_h.weight\n",
      "transformer.h.14.mlp.dense_4h_to_h.bias\n",
      "transformer.h.15.input_layernorm.weight\n",
      "transformer.h.15.input_layernorm.bias\n",
      "transformer.h.15.self_attention.query_key_value.weight\n",
      "transformer.h.15.self_attention.query_key_value.bias\n",
      "transformer.h.15.self_attention.dense.weight\n",
      "transformer.h.15.self_attention.dense.bias\n",
      "transformer.h.15.post_attention_layernorm.weight\n",
      "transformer.h.15.post_attention_layernorm.bias\n",
      "transformer.h.15.mlp.dense_h_to_4h.weight\n",
      "transformer.h.15.mlp.dense_h_to_4h.bias\n",
      "transformer.h.15.mlp.dense_4h_to_h.weight\n",
      "transformer.h.15.mlp.dense_4h_to_h.bias\n",
      "transformer.h.16.input_layernorm.weight\n",
      "transformer.h.16.input_layernorm.bias\n",
      "transformer.h.16.self_attention.query_key_value.weight\n",
      "transformer.h.16.self_attention.query_key_value.bias\n",
      "transformer.h.16.self_attention.dense.weight\n",
      "transformer.h.16.self_attention.dense.bias\n",
      "transformer.h.16.post_attention_layernorm.weight\n",
      "transformer.h.16.post_attention_layernorm.bias\n",
      "transformer.h.16.mlp.dense_h_to_4h.weight\n",
      "transformer.h.16.mlp.dense_h_to_4h.bias\n",
      "transformer.h.16.mlp.dense_4h_to_h.weight\n",
      "transformer.h.16.mlp.dense_4h_to_h.bias\n",
      "transformer.h.17.input_layernorm.weight\n",
      "transformer.h.17.input_layernorm.bias\n",
      "transformer.h.17.self_attention.query_key_value.weight\n",
      "transformer.h.17.self_attention.query_key_value.bias\n",
      "transformer.h.17.self_attention.dense.weight\n",
      "transformer.h.17.self_attention.dense.bias\n",
      "transformer.h.17.post_attention_layernorm.weight\n",
      "transformer.h.17.post_attention_layernorm.bias\n",
      "transformer.h.17.mlp.dense_h_to_4h.weight\n",
      "transformer.h.17.mlp.dense_h_to_4h.bias\n",
      "transformer.h.17.mlp.dense_4h_to_h.weight\n",
      "transformer.h.17.mlp.dense_4h_to_h.bias\n",
      "transformer.h.18.input_layernorm.weight\n",
      "transformer.h.18.input_layernorm.bias\n",
      "transformer.h.18.self_attention.query_key_value.weight\n",
      "transformer.h.18.self_attention.query_key_value.bias\n",
      "transformer.h.18.self_attention.dense.weight\n",
      "transformer.h.18.self_attention.dense.bias\n",
      "transformer.h.18.post_attention_layernorm.weight\n",
      "transformer.h.18.post_attention_layernorm.bias\n",
      "transformer.h.18.mlp.dense_h_to_4h.weight\n",
      "transformer.h.18.mlp.dense_h_to_4h.bias\n",
      "transformer.h.18.mlp.dense_4h_to_h.weight\n",
      "transformer.h.18.mlp.dense_4h_to_h.bias\n",
      "transformer.h.19.input_layernorm.weight\n",
      "transformer.h.19.input_layernorm.bias\n",
      "transformer.h.19.self_attention.query_key_value.weight\n",
      "transformer.h.19.self_attention.query_key_value.bias\n",
      "transformer.h.19.self_attention.dense.weight\n",
      "transformer.h.19.self_attention.dense.bias\n",
      "transformer.h.19.post_attention_layernorm.weight\n",
      "transformer.h.19.post_attention_layernorm.bias\n",
      "transformer.h.19.mlp.dense_h_to_4h.weight\n",
      "transformer.h.19.mlp.dense_h_to_4h.bias\n",
      "transformer.h.19.mlp.dense_4h_to_h.weight\n",
      "transformer.h.19.mlp.dense_4h_to_h.bias\n",
      "transformer.h.20.input_layernorm.weight\n",
      "transformer.h.20.input_layernorm.bias\n",
      "transformer.h.20.self_attention.query_key_value.weight\n",
      "transformer.h.20.self_attention.query_key_value.bias\n",
      "transformer.h.20.self_attention.dense.weight\n",
      "transformer.h.20.self_attention.dense.bias\n",
      "transformer.h.20.post_attention_layernorm.weight\n",
      "transformer.h.20.post_attention_layernorm.bias\n",
      "transformer.h.20.mlp.dense_h_to_4h.weight\n",
      "transformer.h.20.mlp.dense_h_to_4h.bias\n",
      "transformer.h.20.mlp.dense_4h_to_h.weight\n",
      "transformer.h.20.mlp.dense_4h_to_h.bias\n",
      "transformer.h.21.input_layernorm.weight\n",
      "transformer.h.21.input_layernorm.bias\n",
      "transformer.h.21.self_attention.query_key_value.weight\n",
      "transformer.h.21.self_attention.query_key_value.bias\n",
      "transformer.h.21.self_attention.dense.weight\n",
      "transformer.h.21.self_attention.dense.bias\n",
      "transformer.h.21.post_attention_layernorm.weight\n",
      "transformer.h.21.post_attention_layernorm.bias\n",
      "transformer.h.21.mlp.dense_h_to_4h.weight\n",
      "transformer.h.21.mlp.dense_h_to_4h.bias\n",
      "transformer.h.21.mlp.dense_4h_to_h.weight\n",
      "transformer.h.21.mlp.dense_4h_to_h.bias\n",
      "transformer.h.22.input_layernorm.weight\n",
      "transformer.h.22.input_layernorm.bias\n",
      "transformer.h.22.self_attention.query_key_value.weight\n",
      "transformer.h.22.self_attention.query_key_value.bias\n",
      "transformer.h.22.self_attention.dense.weight\n",
      "transformer.h.22.self_attention.dense.bias\n",
      "transformer.h.22.post_attention_layernorm.weight\n",
      "transformer.h.22.post_attention_layernorm.bias\n",
      "transformer.h.22.mlp.dense_h_to_4h.weight\n",
      "transformer.h.22.mlp.dense_h_to_4h.bias\n",
      "transformer.h.22.mlp.dense_4h_to_h.weight\n",
      "transformer.h.22.mlp.dense_4h_to_h.bias\n",
      "transformer.h.23.input_layernorm.weight\n",
      "transformer.h.23.input_layernorm.bias\n",
      "transformer.h.23.self_attention.query_key_value.weight\n",
      "transformer.h.23.self_attention.query_key_value.bias\n",
      "transformer.h.23.self_attention.dense.weight\n",
      "transformer.h.23.self_attention.dense.bias\n",
      "transformer.h.23.post_attention_layernorm.weight\n",
      "transformer.h.23.post_attention_layernorm.bias\n",
      "transformer.h.23.mlp.dense_h_to_4h.weight\n",
      "transformer.h.23.mlp.dense_h_to_4h.bias\n",
      "transformer.h.23.mlp.dense_4h_to_h.weight\n",
      "transformer.h.23.mlp.dense_4h_to_h.bias\n",
      "transformer.ln_f.weight\n",
      "transformer.ln_f.bias\n"
     ]
    }
   ],
   "source": [
    "for name, parameter in model.named_parameters():\n",
    "    print(name)"
   ]
  },
  {
   "cell_type": "markdown",
   "metadata": {},
   "source": [
    "## Lora"
   ]
  },
  {
   "cell_type": "markdown",
   "metadata": {},
   "source": [
    "### PEFT Step1 配置文件"
   ]
  },
  {
   "cell_type": "code",
   "execution_count": 8,
   "metadata": {
    "tags": []
   },
   "outputs": [
    {
     "data": {
      "text/plain": [
       "LoraConfig(peft_type=<PeftType.LORA: 'LORA'>, auto_mapping=None, base_model_name_or_path=None, revision=None, task_type=<TaskType.CAUSAL_LM: 'CAUSAL_LM'>, inference_mode=False, r=8, target_modules=None, lora_alpha=8, lora_dropout=0.0, fan_in_fan_out=False, bias='none', modules_to_save=None, init_lora_weights=True, layers_to_transform=None, layers_pattern=None, rank_pattern={}, alpha_pattern={}, megatron_config=None, megatron_core='megatron.core', loftq_config={})"
      ]
     },
     "execution_count": 8,
     "metadata": {},
     "output_type": "execute_result"
    }
   ],
   "source": [
    "from peft import LoraConfig, TaskType, get_peft_model\n",
    "\n",
    "config = LoraConfig(task_type=TaskType.CAUSAL_LM,lora_alpha=4)\n",
    "config"
   ]
  },
  {
   "cell_type": "markdown",
   "metadata": {},
   "source": [
    "### PEFT Step2 创建模型"
   ]
  },
  {
   "cell_type": "code",
   "execution_count": 9,
   "metadata": {
    "tags": []
   },
   "outputs": [
    {
     "data": {
      "text/plain": [
       "PeftModelForCausalLM(\n",
       "  (base_model): LoraModel(\n",
       "    (model): BloomForCausalLM(\n",
       "      (transformer): BloomModel(\n",
       "        (word_embeddings): Embedding(46145, 2048)\n",
       "        (word_embeddings_layernorm): LayerNorm((2048,), eps=1e-05, elementwise_affine=True)\n",
       "        (h): ModuleList(\n",
       "          (0-23): 24 x BloomBlock(\n",
       "            (input_layernorm): LayerNorm((2048,), eps=1e-05, elementwise_affine=True)\n",
       "            (self_attention): BloomAttention(\n",
       "              (query_key_value): lora.Linear(\n",
       "                (base_layer): Linear(in_features=2048, out_features=6144, bias=True)\n",
       "                (lora_dropout): ModuleDict(\n",
       "                  (default): Identity()\n",
       "                )\n",
       "                (lora_A): ModuleDict(\n",
       "                  (default): Linear(in_features=2048, out_features=8, bias=False)\n",
       "                )\n",
       "                (lora_B): ModuleDict(\n",
       "                  (default): Linear(in_features=8, out_features=6144, bias=False)\n",
       "                )\n",
       "                (lora_embedding_A): ParameterDict()\n",
       "                (lora_embedding_B): ParameterDict()\n",
       "              )\n",
       "              (dense): Linear(in_features=2048, out_features=2048, bias=True)\n",
       "              (attention_dropout): Dropout(p=0.0, inplace=False)\n",
       "            )\n",
       "            (post_attention_layernorm): LayerNorm((2048,), eps=1e-05, elementwise_affine=True)\n",
       "            (mlp): BloomMLP(\n",
       "              (dense_h_to_4h): Linear(in_features=2048, out_features=8192, bias=True)\n",
       "              (gelu_impl): BloomGelu()\n",
       "              (dense_4h_to_h): Linear(in_features=8192, out_features=2048, bias=True)\n",
       "            )\n",
       "          )\n",
       "        )\n",
       "        (ln_f): LayerNorm((2048,), eps=1e-05, elementwise_affine=True)\n",
       "      )\n",
       "      (lm_head): Linear(in_features=2048, out_features=46145, bias=False)\n",
       "    )\n",
       "  )\n",
       ")"
      ]
     },
     "execution_count": 9,
     "metadata": {},
     "output_type": "execute_result"
    }
   ],
   "source": [
    "model = get_peft_model(model, config)\n",
    "model"
   ]
  },
  {
   "cell_type": "code",
   "execution_count": 10,
   "metadata": {
    "tags": []
   },
   "outputs": [
    {
     "data": {
      "text/plain": [
       "LoraConfig(peft_type=<PeftType.LORA: 'LORA'>, auto_mapping=None, base_model_name_or_path='Langboat/bloom-1b4-zh', revision=None, task_type=<TaskType.CAUSAL_LM: 'CAUSAL_LM'>, inference_mode=False, r=8, target_modules={'query_key_value'}, lora_alpha=8, lora_dropout=0.0, fan_in_fan_out=False, bias='none', modules_to_save=None, init_lora_weights=True, layers_to_transform=None, layers_pattern=None, rank_pattern={}, alpha_pattern={}, megatron_config=None, megatron_core='megatron.core', loftq_config={})"
      ]
     },
     "execution_count": 10,
     "metadata": {},
     "output_type": "execute_result"
    }
   ],
   "source": [
    "config"
   ]
  },
  {
   "cell_type": "markdown",
   "metadata": {},
   "source": [
    "## Step5 配置训练参数"
   ]
  },
  {
   "cell_type": "code",
   "execution_count": 14,
   "metadata": {
    "tags": []
   },
   "outputs": [],
   "source": [
    "args = TrainingArguments(\n",
    "    output_dir=\"/root/autodl-tmp/tuningdata/lora\",\n",
    "    per_device_train_batch_size=4,\n",
    "    gradient_accumulation_steps=8,\n",
    "    logging_steps=20,\n",
    "    num_train_epochs=1\n",
    ")"
   ]
  },
  {
   "cell_type": "markdown",
   "metadata": {},
   "source": [
    "## Step6 创建训练器"
   ]
  },
  {
   "cell_type": "code",
   "execution_count": 15,
   "metadata": {
    "tags": []
   },
   "outputs": [],
   "source": [
    "trainer = Trainer(\n",
    "    model=model,\n",
    "    args=args,\n",
    "    train_dataset=tokenized_ds,\n",
    "    data_collator=DataCollatorForSeq2Seq(tokenizer=tokenizer, padding=True),\n",
    ")"
   ]
  },
  {
   "cell_type": "markdown",
   "metadata": {},
   "source": [
    "## Step7 模型训练"
   ]
  },
  {
   "cell_type": "code",
   "execution_count": 16,
   "metadata": {
    "tags": []
   },
   "outputs": [
    {
     "data": {
      "text/html": [
       "\n",
       "    <div>\n",
       "      \n",
       "      <progress value='839' max='839' style='width:300px; height:20px; vertical-align: middle;'></progress>\n",
       "      [839/839 09:53, Epoch 0/1]\n",
       "    </div>\n",
       "    <table border=\"1\" class=\"dataframe\">\n",
       "  <thead>\n",
       " <tr style=\"text-align: left;\">\n",
       "      <th>Step</th>\n",
       "      <th>Training Loss</th>\n",
       "    </tr>\n",
       "  </thead>\n",
       "  <tbody>\n",
       "    <tr>\n",
       "      <td>20</td>\n",
       "      <td>2.655600</td>\n",
       "    </tr>\n",
       "    <tr>\n",
       "      <td>40</td>\n",
       "      <td>2.544900</td>\n",
       "    </tr>\n",
       "    <tr>\n",
       "      <td>60</td>\n",
       "      <td>2.511900</td>\n",
       "    </tr>\n",
       "    <tr>\n",
       "      <td>80</td>\n",
       "      <td>2.452700</td>\n",
       "    </tr>\n",
       "    <tr>\n",
       "      <td>100</td>\n",
       "      <td>2.425600</td>\n",
       "    </tr>\n",
       "    <tr>\n",
       "      <td>120</td>\n",
       "      <td>2.379400</td>\n",
       "    </tr>\n",
       "    <tr>\n",
       "      <td>140</td>\n",
       "      <td>2.425000</td>\n",
       "    </tr>\n",
       "    <tr>\n",
       "      <td>160</td>\n",
       "      <td>2.413100</td>\n",
       "    </tr>\n",
       "    <tr>\n",
       "      <td>180</td>\n",
       "      <td>2.361800</td>\n",
       "    </tr>\n",
       "    <tr>\n",
       "      <td>200</td>\n",
       "      <td>2.400100</td>\n",
       "    </tr>\n",
       "    <tr>\n",
       "      <td>220</td>\n",
       "      <td>2.374400</td>\n",
       "    </tr>\n",
       "    <tr>\n",
       "      <td>240</td>\n",
       "      <td>2.344800</td>\n",
       "    </tr>\n",
       "    <tr>\n",
       "      <td>260</td>\n",
       "      <td>2.305600</td>\n",
       "    </tr>\n",
       "    <tr>\n",
       "      <td>280</td>\n",
       "      <td>2.269200</td>\n",
       "    </tr>\n",
       "    <tr>\n",
       "      <td>300</td>\n",
       "      <td>2.339700</td>\n",
       "    </tr>\n",
       "    <tr>\n",
       "      <td>320</td>\n",
       "      <td>2.301900</td>\n",
       "    </tr>\n",
       "    <tr>\n",
       "      <td>340</td>\n",
       "      <td>2.290900</td>\n",
       "    </tr>\n",
       "    <tr>\n",
       "      <td>360</td>\n",
       "      <td>2.378100</td>\n",
       "    </tr>\n",
       "    <tr>\n",
       "      <td>380</td>\n",
       "      <td>2.305400</td>\n",
       "    </tr>\n",
       "    <tr>\n",
       "      <td>400</td>\n",
       "      <td>2.298900</td>\n",
       "    </tr>\n",
       "    <tr>\n",
       "      <td>420</td>\n",
       "      <td>2.273600</td>\n",
       "    </tr>\n",
       "    <tr>\n",
       "      <td>440</td>\n",
       "      <td>2.270000</td>\n",
       "    </tr>\n",
       "    <tr>\n",
       "      <td>460</td>\n",
       "      <td>2.299800</td>\n",
       "    </tr>\n",
       "    <tr>\n",
       "      <td>480</td>\n",
       "      <td>2.336400</td>\n",
       "    </tr>\n",
       "    <tr>\n",
       "      <td>500</td>\n",
       "      <td>2.278600</td>\n",
       "    </tr>\n",
       "    <tr>\n",
       "      <td>520</td>\n",
       "      <td>2.254000</td>\n",
       "    </tr>\n",
       "    <tr>\n",
       "      <td>540</td>\n",
       "      <td>2.287100</td>\n",
       "    </tr>\n",
       "    <tr>\n",
       "      <td>560</td>\n",
       "      <td>2.221400</td>\n",
       "    </tr>\n",
       "    <tr>\n",
       "      <td>580</td>\n",
       "      <td>2.244700</td>\n",
       "    </tr>\n",
       "    <tr>\n",
       "      <td>600</td>\n",
       "      <td>2.273100</td>\n",
       "    </tr>\n",
       "    <tr>\n",
       "      <td>620</td>\n",
       "      <td>2.301200</td>\n",
       "    </tr>\n",
       "    <tr>\n",
       "      <td>640</td>\n",
       "      <td>2.288700</td>\n",
       "    </tr>\n",
       "    <tr>\n",
       "      <td>660</td>\n",
       "      <td>2.310300</td>\n",
       "    </tr>\n",
       "    <tr>\n",
       "      <td>680</td>\n",
       "      <td>2.285500</td>\n",
       "    </tr>\n",
       "    <tr>\n",
       "      <td>700</td>\n",
       "      <td>2.275700</td>\n",
       "    </tr>\n",
       "    <tr>\n",
       "      <td>720</td>\n",
       "      <td>2.279500</td>\n",
       "    </tr>\n",
       "    <tr>\n",
       "      <td>740</td>\n",
       "      <td>2.262400</td>\n",
       "    </tr>\n",
       "    <tr>\n",
       "      <td>760</td>\n",
       "      <td>2.287700</td>\n",
       "    </tr>\n",
       "    <tr>\n",
       "      <td>780</td>\n",
       "      <td>2.262900</td>\n",
       "    </tr>\n",
       "    <tr>\n",
       "      <td>800</td>\n",
       "      <td>2.237300</td>\n",
       "    </tr>\n",
       "    <tr>\n",
       "      <td>820</td>\n",
       "      <td>2.292600</td>\n",
       "    </tr>\n",
       "  </tbody>\n",
       "</table><p>"
      ],
      "text/plain": [
       "<IPython.core.display.HTML object>"
      ]
     },
     "metadata": {},
     "output_type": "display_data"
    },
    {
     "data": {
      "text/plain": [
       "TrainOutput(global_step=839, training_loss=2.3298907774423956, metrics={'train_runtime': 594.6545, 'train_samples_per_second': 45.166, 'train_steps_per_second': 1.411, 'total_flos': 2.328308068122624e+16, 'train_loss': 2.3298907774423956, 'epoch': 1.0})"
      ]
     },
     "execution_count": 16,
     "metadata": {},
     "output_type": "execute_result"
    }
   ],
   "source": [
    "trainer.train()"
   ]
  },
  {
   "cell_type": "markdown",
   "metadata": {},
   "source": [
    "## Step8 模型推理"
   ]
  },
  {
   "cell_type": "code",
   "execution_count": null,
   "metadata": {},
   "outputs": [],
   "source": [
    "from transformers import pipeline\n",
    "\n",
    "pipe = pipeline(\"text-generation\", model=model, tokenizer=tokenizer, device=0)\n",
    "\n",
    "ipt = \"Human: {}\\n{}\".format(\"如何写好一个简历？\", \"\").strip() + \"\\n\\nAssistant: \"\n",
    "pipe(ipt, max_length=256 )"
   ]
  },
  {
   "cell_type": "code",
   "execution_count": null,
   "metadata": {},
   "outputs": [],
   "source": []
  }
 ],
 "metadata": {
  "kernelspec": {
   "display_name": "Python 3 (ipykernel)",
   "language": "python",
   "name": "python3"
  },
  "language_info": {
   "codemirror_mode": {
    "name": "ipython",
    "version": 3
   },
   "file_extension": ".py",
   "mimetype": "text/x-python",
   "name": "python",
   "nbconvert_exporter": "python",
   "pygments_lexer": "ipython3",
   "version": "3.8.10"
  }
 },
 "nbformat": 4,
 "nbformat_minor": 4
}
