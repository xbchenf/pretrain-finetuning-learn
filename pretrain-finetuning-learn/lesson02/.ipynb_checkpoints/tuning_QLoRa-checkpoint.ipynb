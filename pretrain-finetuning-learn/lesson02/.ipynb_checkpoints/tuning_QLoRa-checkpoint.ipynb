{
 "cells": [
  {
   "cell_type": "markdown",
   "metadata": {},
   "source": [
    "# QLoRa 实战"
   ]
  },
  {
   "cell_type": "markdown",
   "metadata": {},
   "source": [
    "## Step1 导入相关包"
   ]
  },
  {
   "cell_type": "code",
   "execution_count": 1,
   "metadata": {
    "tags": []
   },
   "outputs": [],
   "source": [
    "## 学术资源加速\n",
    "import subprocess\n",
    "import os\n",
    "\n",
    "result = subprocess.run('bash -c \"source /etc/network_turbo && env | grep proxy\"', shell=True, capture_output=True, text=True)\n",
    "output = result.stdout\n",
    "for line in output.splitlines():\n",
    "    if '=' in line:\n",
    "        var, value = line.split('=', 1)\n",
    "        os.environ[var] = value"
   ]
  },
  {
   "cell_type": "code",
   "execution_count": 2,
   "metadata": {
    "tags": []
   },
   "outputs": [],
   "source": [
    "from datasets import Dataset\n",
    "from transformers import AutoTokenizer, AutoModelForCausalLM, DataCollatorForSeq2Seq, TrainingArguments, Trainer"
   ]
  },
  {
   "cell_type": "markdown",
   "metadata": {},
   "source": [
    "## Step2 加载数据集"
   ]
  },
  {
   "cell_type": "code",
   "execution_count": 3,
   "metadata": {
    "tags": []
   },
   "outputs": [
    {
     "data": {
      "text/plain": [
       "Dataset({\n",
       "    features: ['output', 'input', 'instruction'],\n",
       "    num_rows: 26858\n",
       "})"
      ]
     },
     "execution_count": 3,
     "metadata": {},
     "output_type": "execute_result"
    }
   ],
   "source": [
    "ds = Dataset.load_from_disk(\"/root/tuning/lesson01/data/alpaca_data_zh/\")\n",
    "ds"
   ]
  },
  {
   "cell_type": "code",
   "execution_count": 5,
   "metadata": {
    "tags": []
   },
   "outputs": [
    {
     "data": {
      "text/plain": [
       "{'output': ['以下是保持健康的三个提示：\\n\\n1. 保持身体活动。每天做适当的身体运动，如散步、跑步或游泳，能促进心血管健康，增强肌肉力量，并有助于减少体重。\\n\\n2. 均衡饮食。每天食用新鲜的蔬菜、水果、全谷物和脂肪含量低的蛋白质食物，避免高糖、高脂肪和加工食品，以保持健康的饮食习惯。\\n\\n3. 睡眠充足。睡眠对人体健康至关重要，成年人每天应保证 7-8 小时的睡眠。良好的睡眠有助于减轻压力，促进身体恢复，并提高注意力和记忆力。'],\n",
       " 'input': [''],\n",
       " 'instruction': ['保持健康的三个提示。']}"
      ]
     },
     "execution_count": 5,
     "metadata": {},
     "output_type": "execute_result"
    }
   ],
   "source": [
    "ds[:1]"
   ]
  },
  {
   "cell_type": "markdown",
   "metadata": {},
   "source": [
    "## Step3 数据集预处理"
   ]
  },
  {
   "cell_type": "code",
   "execution_count": 4,
   "metadata": {
    "tags": []
   },
   "outputs": [
    {
     "data": {
      "text/plain": [
       "BloomTokenizerFast(name_or_path='Langboat/bloom-1b4-zh', vocab_size=46145, model_max_length=1000000000000000019884624838656, is_fast=True, padding_side='left', truncation_side='right', special_tokens={'bos_token': '<s>', 'eos_token': '</s>', 'unk_token': '<unk>', 'pad_token': '<pad>'}, clean_up_tokenization_spaces=False)"
      ]
     },
     "execution_count": 4,
     "metadata": {},
     "output_type": "execute_result"
    }
   ],
   "source": [
    "tokenizer = AutoTokenizer.from_pretrained(\"Langboat/bloom-1b4-zh\")\n",
    "tokenizer"
   ]
  },
  {
   "cell_type": "code",
   "execution_count": 5,
   "metadata": {
    "tags": []
   },
   "outputs": [],
   "source": [
    "def process_func(example):\n",
    "    MAX_LENGTH = 256\n",
    "    input_ids, attention_mask, labels = [], [], []\n",
    "    instruction = tokenizer(\"\\n\".join([\"Human: \" + example[\"instruction\"], example[\"input\"]]).strip() + \"\\n\\nAssistant: \")\n",
    "    response = tokenizer(example[\"output\"] + tokenizer.eos_token)\n",
    "    input_ids = instruction[\"input_ids\"] + response[\"input_ids\"]\n",
    "    attention_mask = instruction[\"attention_mask\"] + response[\"attention_mask\"]\n",
    "    labels = [-100] * len(instruction[\"input_ids\"]) + response[\"input_ids\"]\n",
    "    if len(input_ids) > MAX_LENGTH:\n",
    "        input_ids = input_ids[:MAX_LENGTH]\n",
    "        attention_mask = attention_mask[:MAX_LENGTH]\n",
    "        labels = labels[:MAX_LENGTH]\n",
    "    return {\n",
    "        \"input_ids\": input_ids,\n",
    "        \"attention_mask\": attention_mask,\n",
    "        \"labels\": labels\n",
    "    }"
   ]
  },
  {
   "cell_type": "code",
   "execution_count": 6,
   "metadata": {
    "tags": []
   },
   "outputs": [
    {
     "data": {
      "text/plain": [
       "Dataset({\n",
       "    features: ['input_ids', 'attention_mask', 'labels'],\n",
       "    num_rows: 26858\n",
       "})"
      ]
     },
     "execution_count": 6,
     "metadata": {},
     "output_type": "execute_result"
    }
   ],
   "source": [
    "tokenized_ds = ds.map(process_func, remove_columns=ds.column_names)\n",
    "tokenized_ds"
   ]
  },
  {
   "cell_type": "markdown",
   "metadata": {},
   "source": [
    "## Step4 创建模型"
   ]
  },
  {
   "cell_type": "code",
   "execution_count": 14,
   "metadata": {
    "tags": []
   },
   "outputs": [],
   "source": [
    "import torch\n",
    "##修改\n",
    "# low_cpu_mem_usage=True: 这个参数设定为True意味着在模型加载时会尽可能地减少CPU内存的使用。\n",
    "# torch_dtype=torch.half: 这个参数设置了模型中张量的数据类型为半精度浮点数，这可以减少内存占用和计算时间，但可能会牺牲一些精度。\n",
    "# device_map=\"auto\": 这个参数设置了模型应该在哪个设备上运行。“auto”意味着它将自动选择可用的设备，优先选择GPU，如果没有GPU则选择CPU。\n",
    "# load_in_4bit=True: 这个参数设置为True意味着在模型加载时将使用4位量化，这可以进一步减少内存占用。\n",
    "# bnb_4bit_compute_dtype=torch.half: 这个参数设置了在4位量化时的计算数据类型，这里设置为半精度浮点数。\n",
    "# bnb_4bit_quant_type=\"nf4\": 这个参数设置了4位量化的类型，\"nf4\"是一种特定的量化策略。\n",
    "# bnb_4bit_use_double_quant=True: 这个参数设置为True意味着在4位量化时使用双重量化。\n",
    "model = AutoModelForCausalLM.from_pretrained(\"Langboat/bloom-1b4-zh\",\n",
    "                                              torch_dtype=torch.half,\n",
    "                                              low_cpu_mem_usage=True, \n",
    "                                              device_map=\"auto\", \n",
    "                                              load_in_4bit=True,\n",
    "                                              bnb_4bit_quant_type=\"nf4\", \n",
    "                                              bnb_4bit_use_double_quant=True)\n"
   ]
  },
  {
   "cell_type": "code",
   "execution_count": 10,
   "metadata": {
    "tags": []
   },
   "outputs": [
    {
     "data": {
      "text/plain": [
       "torch.float16"
      ]
     },
     "execution_count": 10,
     "metadata": {},
     "output_type": "execute_result"
    }
   ],
   "source": [
    "model.dtype"
   ]
  },
  {
   "cell_type": "code",
   "execution_count": 13,
   "metadata": {
    "collapsed": true,
    "jupyter": {
     "outputs_hidden": true
    },
    "tags": []
   },
   "outputs": [
    {
     "name": "stdout",
     "output_type": "stream",
     "text": [
      "transformer.word_embeddings.weight torch.float16\n",
      "transformer.word_embeddings_layernorm.weight torch.float16\n",
      "transformer.word_embeddings_layernorm.bias torch.float16\n",
      "transformer.h.0.input_layernorm.weight torch.float16\n",
      "transformer.h.0.input_layernorm.bias torch.float16\n",
      "transformer.h.0.self_attention.query_key_value.weight torch.uint8\n",
      "transformer.h.0.self_attention.query_key_value.bias torch.float16\n",
      "transformer.h.0.self_attention.dense.weight torch.uint8\n",
      "transformer.h.0.self_attention.dense.bias torch.float16\n",
      "transformer.h.0.post_attention_layernorm.weight torch.float16\n",
      "transformer.h.0.post_attention_layernorm.bias torch.float16\n",
      "transformer.h.0.mlp.dense_h_to_4h.weight torch.uint8\n",
      "transformer.h.0.mlp.dense_h_to_4h.bias torch.float16\n",
      "transformer.h.0.mlp.dense_4h_to_h.weight torch.uint8\n",
      "transformer.h.0.mlp.dense_4h_to_h.bias torch.float16\n",
      "transformer.h.1.input_layernorm.weight torch.float16\n",
      "transformer.h.1.input_layernorm.bias torch.float16\n",
      "transformer.h.1.self_attention.query_key_value.weight torch.uint8\n",
      "transformer.h.1.self_attention.query_key_value.bias torch.float16\n",
      "transformer.h.1.self_attention.dense.weight torch.uint8\n",
      "transformer.h.1.self_attention.dense.bias torch.float16\n",
      "transformer.h.1.post_attention_layernorm.weight torch.float16\n",
      "transformer.h.1.post_attention_layernorm.bias torch.float16\n",
      "transformer.h.1.mlp.dense_h_to_4h.weight torch.uint8\n",
      "transformer.h.1.mlp.dense_h_to_4h.bias torch.float16\n",
      "transformer.h.1.mlp.dense_4h_to_h.weight torch.uint8\n",
      "transformer.h.1.mlp.dense_4h_to_h.bias torch.float16\n",
      "transformer.h.2.input_layernorm.weight torch.float16\n",
      "transformer.h.2.input_layernorm.bias torch.float16\n",
      "transformer.h.2.self_attention.query_key_value.weight torch.uint8\n",
      "transformer.h.2.self_attention.query_key_value.bias torch.float16\n",
      "transformer.h.2.self_attention.dense.weight torch.uint8\n",
      "transformer.h.2.self_attention.dense.bias torch.float16\n",
      "transformer.h.2.post_attention_layernorm.weight torch.float16\n",
      "transformer.h.2.post_attention_layernorm.bias torch.float16\n",
      "transformer.h.2.mlp.dense_h_to_4h.weight torch.uint8\n",
      "transformer.h.2.mlp.dense_h_to_4h.bias torch.float16\n",
      "transformer.h.2.mlp.dense_4h_to_h.weight torch.uint8\n",
      "transformer.h.2.mlp.dense_4h_to_h.bias torch.float16\n",
      "transformer.h.3.input_layernorm.weight torch.float16\n",
      "transformer.h.3.input_layernorm.bias torch.float16\n",
      "transformer.h.3.self_attention.query_key_value.weight torch.uint8\n",
      "transformer.h.3.self_attention.query_key_value.bias torch.float16\n",
      "transformer.h.3.self_attention.dense.weight torch.uint8\n",
      "transformer.h.3.self_attention.dense.bias torch.float16\n",
      "transformer.h.3.post_attention_layernorm.weight torch.float16\n",
      "transformer.h.3.post_attention_layernorm.bias torch.float16\n",
      "transformer.h.3.mlp.dense_h_to_4h.weight torch.uint8\n",
      "transformer.h.3.mlp.dense_h_to_4h.bias torch.float16\n",
      "transformer.h.3.mlp.dense_4h_to_h.weight torch.uint8\n",
      "transformer.h.3.mlp.dense_4h_to_h.bias torch.float16\n",
      "transformer.h.4.input_layernorm.weight torch.float16\n",
      "transformer.h.4.input_layernorm.bias torch.float16\n",
      "transformer.h.4.self_attention.query_key_value.weight torch.uint8\n",
      "transformer.h.4.self_attention.query_key_value.bias torch.float16\n",
      "transformer.h.4.self_attention.dense.weight torch.uint8\n",
      "transformer.h.4.self_attention.dense.bias torch.float16\n",
      "transformer.h.4.post_attention_layernorm.weight torch.float16\n",
      "transformer.h.4.post_attention_layernorm.bias torch.float16\n",
      "transformer.h.4.mlp.dense_h_to_4h.weight torch.uint8\n",
      "transformer.h.4.mlp.dense_h_to_4h.bias torch.float16\n",
      "transformer.h.4.mlp.dense_4h_to_h.weight torch.uint8\n",
      "transformer.h.4.mlp.dense_4h_to_h.bias torch.float16\n",
      "transformer.h.5.input_layernorm.weight torch.float16\n",
      "transformer.h.5.input_layernorm.bias torch.float16\n",
      "transformer.h.5.self_attention.query_key_value.weight torch.uint8\n",
      "transformer.h.5.self_attention.query_key_value.bias torch.float16\n",
      "transformer.h.5.self_attention.dense.weight torch.uint8\n",
      "transformer.h.5.self_attention.dense.bias torch.float16\n",
      "transformer.h.5.post_attention_layernorm.weight torch.float16\n",
      "transformer.h.5.post_attention_layernorm.bias torch.float16\n",
      "transformer.h.5.mlp.dense_h_to_4h.weight torch.uint8\n",
      "transformer.h.5.mlp.dense_h_to_4h.bias torch.float16\n",
      "transformer.h.5.mlp.dense_4h_to_h.weight torch.uint8\n",
      "transformer.h.5.mlp.dense_4h_to_h.bias torch.float16\n",
      "transformer.h.6.input_layernorm.weight torch.float16\n",
      "transformer.h.6.input_layernorm.bias torch.float16\n",
      "transformer.h.6.self_attention.query_key_value.weight torch.uint8\n",
      "transformer.h.6.self_attention.query_key_value.bias torch.float16\n",
      "transformer.h.6.self_attention.dense.weight torch.uint8\n",
      "transformer.h.6.self_attention.dense.bias torch.float16\n",
      "transformer.h.6.post_attention_layernorm.weight torch.float16\n",
      "transformer.h.6.post_attention_layernorm.bias torch.float16\n",
      "transformer.h.6.mlp.dense_h_to_4h.weight torch.uint8\n",
      "transformer.h.6.mlp.dense_h_to_4h.bias torch.float16\n",
      "transformer.h.6.mlp.dense_4h_to_h.weight torch.uint8\n",
      "transformer.h.6.mlp.dense_4h_to_h.bias torch.float16\n",
      "transformer.h.7.input_layernorm.weight torch.float16\n",
      "transformer.h.7.input_layernorm.bias torch.float16\n",
      "transformer.h.7.self_attention.query_key_value.weight torch.uint8\n",
      "transformer.h.7.self_attention.query_key_value.bias torch.float16\n",
      "transformer.h.7.self_attention.dense.weight torch.uint8\n",
      "transformer.h.7.self_attention.dense.bias torch.float16\n",
      "transformer.h.7.post_attention_layernorm.weight torch.float16\n",
      "transformer.h.7.post_attention_layernorm.bias torch.float16\n",
      "transformer.h.7.mlp.dense_h_to_4h.weight torch.uint8\n",
      "transformer.h.7.mlp.dense_h_to_4h.bias torch.float16\n",
      "transformer.h.7.mlp.dense_4h_to_h.weight torch.uint8\n",
      "transformer.h.7.mlp.dense_4h_to_h.bias torch.float16\n",
      "transformer.h.8.input_layernorm.weight torch.float16\n",
      "transformer.h.8.input_layernorm.bias torch.float16\n",
      "transformer.h.8.self_attention.query_key_value.weight torch.uint8\n",
      "transformer.h.8.self_attention.query_key_value.bias torch.float16\n",
      "transformer.h.8.self_attention.dense.weight torch.uint8\n",
      "transformer.h.8.self_attention.dense.bias torch.float16\n",
      "transformer.h.8.post_attention_layernorm.weight torch.float16\n",
      "transformer.h.8.post_attention_layernorm.bias torch.float16\n",
      "transformer.h.8.mlp.dense_h_to_4h.weight torch.uint8\n",
      "transformer.h.8.mlp.dense_h_to_4h.bias torch.float16\n",
      "transformer.h.8.mlp.dense_4h_to_h.weight torch.uint8\n",
      "transformer.h.8.mlp.dense_4h_to_h.bias torch.float16\n",
      "transformer.h.9.input_layernorm.weight torch.float16\n",
      "transformer.h.9.input_layernorm.bias torch.float16\n",
      "transformer.h.9.self_attention.query_key_value.weight torch.uint8\n",
      "transformer.h.9.self_attention.query_key_value.bias torch.float16\n",
      "transformer.h.9.self_attention.dense.weight torch.uint8\n",
      "transformer.h.9.self_attention.dense.bias torch.float16\n",
      "transformer.h.9.post_attention_layernorm.weight torch.float16\n",
      "transformer.h.9.post_attention_layernorm.bias torch.float16\n",
      "transformer.h.9.mlp.dense_h_to_4h.weight torch.uint8\n",
      "transformer.h.9.mlp.dense_h_to_4h.bias torch.float16\n",
      "transformer.h.9.mlp.dense_4h_to_h.weight torch.uint8\n",
      "transformer.h.9.mlp.dense_4h_to_h.bias torch.float16\n",
      "transformer.h.10.input_layernorm.weight torch.float16\n",
      "transformer.h.10.input_layernorm.bias torch.float16\n",
      "transformer.h.10.self_attention.query_key_value.weight torch.uint8\n",
      "transformer.h.10.self_attention.query_key_value.bias torch.float16\n",
      "transformer.h.10.self_attention.dense.weight torch.uint8\n",
      "transformer.h.10.self_attention.dense.bias torch.float16\n",
      "transformer.h.10.post_attention_layernorm.weight torch.float16\n",
      "transformer.h.10.post_attention_layernorm.bias torch.float16\n",
      "transformer.h.10.mlp.dense_h_to_4h.weight torch.uint8\n",
      "transformer.h.10.mlp.dense_h_to_4h.bias torch.float16\n",
      "transformer.h.10.mlp.dense_4h_to_h.weight torch.uint8\n",
      "transformer.h.10.mlp.dense_4h_to_h.bias torch.float16\n",
      "transformer.h.11.input_layernorm.weight torch.float16\n",
      "transformer.h.11.input_layernorm.bias torch.float16\n",
      "transformer.h.11.self_attention.query_key_value.weight torch.uint8\n",
      "transformer.h.11.self_attention.query_key_value.bias torch.float16\n",
      "transformer.h.11.self_attention.dense.weight torch.uint8\n",
      "transformer.h.11.self_attention.dense.bias torch.float16\n",
      "transformer.h.11.post_attention_layernorm.weight torch.float16\n",
      "transformer.h.11.post_attention_layernorm.bias torch.float16\n",
      "transformer.h.11.mlp.dense_h_to_4h.weight torch.uint8\n",
      "transformer.h.11.mlp.dense_h_to_4h.bias torch.float16\n",
      "transformer.h.11.mlp.dense_4h_to_h.weight torch.uint8\n",
      "transformer.h.11.mlp.dense_4h_to_h.bias torch.float16\n",
      "transformer.h.12.input_layernorm.weight torch.float16\n",
      "transformer.h.12.input_layernorm.bias torch.float16\n",
      "transformer.h.12.self_attention.query_key_value.weight torch.uint8\n",
      "transformer.h.12.self_attention.query_key_value.bias torch.float16\n",
      "transformer.h.12.self_attention.dense.weight torch.uint8\n",
      "transformer.h.12.self_attention.dense.bias torch.float16\n",
      "transformer.h.12.post_attention_layernorm.weight torch.float16\n",
      "transformer.h.12.post_attention_layernorm.bias torch.float16\n",
      "transformer.h.12.mlp.dense_h_to_4h.weight torch.uint8\n",
      "transformer.h.12.mlp.dense_h_to_4h.bias torch.float16\n",
      "transformer.h.12.mlp.dense_4h_to_h.weight torch.uint8\n",
      "transformer.h.12.mlp.dense_4h_to_h.bias torch.float16\n",
      "transformer.h.13.input_layernorm.weight torch.float16\n",
      "transformer.h.13.input_layernorm.bias torch.float16\n",
      "transformer.h.13.self_attention.query_key_value.weight torch.uint8\n",
      "transformer.h.13.self_attention.query_key_value.bias torch.float16\n",
      "transformer.h.13.self_attention.dense.weight torch.uint8\n",
      "transformer.h.13.self_attention.dense.bias torch.float16\n",
      "transformer.h.13.post_attention_layernorm.weight torch.float16\n",
      "transformer.h.13.post_attention_layernorm.bias torch.float16\n",
      "transformer.h.13.mlp.dense_h_to_4h.weight torch.uint8\n",
      "transformer.h.13.mlp.dense_h_to_4h.bias torch.float16\n",
      "transformer.h.13.mlp.dense_4h_to_h.weight torch.uint8\n",
      "transformer.h.13.mlp.dense_4h_to_h.bias torch.float16\n",
      "transformer.h.14.input_layernorm.weight torch.float16\n",
      "transformer.h.14.input_layernorm.bias torch.float16\n",
      "transformer.h.14.self_attention.query_key_value.weight torch.uint8\n",
      "transformer.h.14.self_attention.query_key_value.bias torch.float16\n",
      "transformer.h.14.self_attention.dense.weight torch.uint8\n",
      "transformer.h.14.self_attention.dense.bias torch.float16\n",
      "transformer.h.14.post_attention_layernorm.weight torch.float16\n",
      "transformer.h.14.post_attention_layernorm.bias torch.float16\n",
      "transformer.h.14.mlp.dense_h_to_4h.weight torch.uint8\n",
      "transformer.h.14.mlp.dense_h_to_4h.bias torch.float16\n",
      "transformer.h.14.mlp.dense_4h_to_h.weight torch.uint8\n",
      "transformer.h.14.mlp.dense_4h_to_h.bias torch.float16\n",
      "transformer.h.15.input_layernorm.weight torch.float16\n",
      "transformer.h.15.input_layernorm.bias torch.float16\n",
      "transformer.h.15.self_attention.query_key_value.weight torch.uint8\n",
      "transformer.h.15.self_attention.query_key_value.bias torch.float16\n",
      "transformer.h.15.self_attention.dense.weight torch.uint8\n",
      "transformer.h.15.self_attention.dense.bias torch.float16\n",
      "transformer.h.15.post_attention_layernorm.weight torch.float16\n",
      "transformer.h.15.post_attention_layernorm.bias torch.float16\n",
      "transformer.h.15.mlp.dense_h_to_4h.weight torch.uint8\n",
      "transformer.h.15.mlp.dense_h_to_4h.bias torch.float16\n",
      "transformer.h.15.mlp.dense_4h_to_h.weight torch.uint8\n",
      "transformer.h.15.mlp.dense_4h_to_h.bias torch.float16\n",
      "transformer.h.16.input_layernorm.weight torch.float16\n",
      "transformer.h.16.input_layernorm.bias torch.float16\n",
      "transformer.h.16.self_attention.query_key_value.weight torch.uint8\n",
      "transformer.h.16.self_attention.query_key_value.bias torch.float16\n",
      "transformer.h.16.self_attention.dense.weight torch.uint8\n",
      "transformer.h.16.self_attention.dense.bias torch.float16\n",
      "transformer.h.16.post_attention_layernorm.weight torch.float16\n",
      "transformer.h.16.post_attention_layernorm.bias torch.float16\n",
      "transformer.h.16.mlp.dense_h_to_4h.weight torch.uint8\n",
      "transformer.h.16.mlp.dense_h_to_4h.bias torch.float16\n",
      "transformer.h.16.mlp.dense_4h_to_h.weight torch.uint8\n",
      "transformer.h.16.mlp.dense_4h_to_h.bias torch.float16\n",
      "transformer.h.17.input_layernorm.weight torch.float16\n",
      "transformer.h.17.input_layernorm.bias torch.float16\n",
      "transformer.h.17.self_attention.query_key_value.weight torch.uint8\n",
      "transformer.h.17.self_attention.query_key_value.bias torch.float16\n",
      "transformer.h.17.self_attention.dense.weight torch.uint8\n",
      "transformer.h.17.self_attention.dense.bias torch.float16\n",
      "transformer.h.17.post_attention_layernorm.weight torch.float16\n",
      "transformer.h.17.post_attention_layernorm.bias torch.float16\n",
      "transformer.h.17.mlp.dense_h_to_4h.weight torch.uint8\n",
      "transformer.h.17.mlp.dense_h_to_4h.bias torch.float16\n",
      "transformer.h.17.mlp.dense_4h_to_h.weight torch.uint8\n",
      "transformer.h.17.mlp.dense_4h_to_h.bias torch.float16\n",
      "transformer.h.18.input_layernorm.weight torch.float16\n",
      "transformer.h.18.input_layernorm.bias torch.float16\n",
      "transformer.h.18.self_attention.query_key_value.weight torch.uint8\n",
      "transformer.h.18.self_attention.query_key_value.bias torch.float16\n",
      "transformer.h.18.self_attention.dense.weight torch.uint8\n",
      "transformer.h.18.self_attention.dense.bias torch.float16\n",
      "transformer.h.18.post_attention_layernorm.weight torch.float16\n",
      "transformer.h.18.post_attention_layernorm.bias torch.float16\n",
      "transformer.h.18.mlp.dense_h_to_4h.weight torch.uint8\n",
      "transformer.h.18.mlp.dense_h_to_4h.bias torch.float16\n",
      "transformer.h.18.mlp.dense_4h_to_h.weight torch.uint8\n",
      "transformer.h.18.mlp.dense_4h_to_h.bias torch.float16\n",
      "transformer.h.19.input_layernorm.weight torch.float16\n",
      "transformer.h.19.input_layernorm.bias torch.float16\n",
      "transformer.h.19.self_attention.query_key_value.weight torch.uint8\n",
      "transformer.h.19.self_attention.query_key_value.bias torch.float16\n",
      "transformer.h.19.self_attention.dense.weight torch.uint8\n",
      "transformer.h.19.self_attention.dense.bias torch.float16\n",
      "transformer.h.19.post_attention_layernorm.weight torch.float16\n",
      "transformer.h.19.post_attention_layernorm.bias torch.float16\n",
      "transformer.h.19.mlp.dense_h_to_4h.weight torch.uint8\n",
      "transformer.h.19.mlp.dense_h_to_4h.bias torch.float16\n",
      "transformer.h.19.mlp.dense_4h_to_h.weight torch.uint8\n",
      "transformer.h.19.mlp.dense_4h_to_h.bias torch.float16\n",
      "transformer.h.20.input_layernorm.weight torch.float16\n",
      "transformer.h.20.input_layernorm.bias torch.float16\n",
      "transformer.h.20.self_attention.query_key_value.weight torch.uint8\n",
      "transformer.h.20.self_attention.query_key_value.bias torch.float16\n",
      "transformer.h.20.self_attention.dense.weight torch.uint8\n",
      "transformer.h.20.self_attention.dense.bias torch.float16\n",
      "transformer.h.20.post_attention_layernorm.weight torch.float16\n",
      "transformer.h.20.post_attention_layernorm.bias torch.float16\n",
      "transformer.h.20.mlp.dense_h_to_4h.weight torch.uint8\n",
      "transformer.h.20.mlp.dense_h_to_4h.bias torch.float16\n",
      "transformer.h.20.mlp.dense_4h_to_h.weight torch.uint8\n",
      "transformer.h.20.mlp.dense_4h_to_h.bias torch.float16\n",
      "transformer.h.21.input_layernorm.weight torch.float16\n",
      "transformer.h.21.input_layernorm.bias torch.float16\n",
      "transformer.h.21.self_attention.query_key_value.weight torch.uint8\n",
      "transformer.h.21.self_attention.query_key_value.bias torch.float16\n",
      "transformer.h.21.self_attention.dense.weight torch.uint8\n",
      "transformer.h.21.self_attention.dense.bias torch.float16\n",
      "transformer.h.21.post_attention_layernorm.weight torch.float16\n",
      "transformer.h.21.post_attention_layernorm.bias torch.float16\n",
      "transformer.h.21.mlp.dense_h_to_4h.weight torch.uint8\n",
      "transformer.h.21.mlp.dense_h_to_4h.bias torch.float16\n",
      "transformer.h.21.mlp.dense_4h_to_h.weight torch.uint8\n",
      "transformer.h.21.mlp.dense_4h_to_h.bias torch.float16\n",
      "transformer.h.22.input_layernorm.weight torch.float16\n",
      "transformer.h.22.input_layernorm.bias torch.float16\n",
      "transformer.h.22.self_attention.query_key_value.weight torch.uint8\n",
      "transformer.h.22.self_attention.query_key_value.bias torch.float16\n",
      "transformer.h.22.self_attention.dense.weight torch.uint8\n",
      "transformer.h.22.self_attention.dense.bias torch.float16\n",
      "transformer.h.22.post_attention_layernorm.weight torch.float16\n",
      "transformer.h.22.post_attention_layernorm.bias torch.float16\n",
      "transformer.h.22.mlp.dense_h_to_4h.weight torch.uint8\n",
      "transformer.h.22.mlp.dense_h_to_4h.bias torch.float16\n",
      "transformer.h.22.mlp.dense_4h_to_h.weight torch.uint8\n",
      "transformer.h.22.mlp.dense_4h_to_h.bias torch.float16\n",
      "transformer.h.23.input_layernorm.weight torch.float16\n",
      "transformer.h.23.input_layernorm.bias torch.float16\n",
      "transformer.h.23.self_attention.query_key_value.weight torch.uint8\n",
      "transformer.h.23.self_attention.query_key_value.bias torch.float16\n",
      "transformer.h.23.self_attention.dense.weight torch.uint8\n",
      "transformer.h.23.self_attention.dense.bias torch.float16\n",
      "transformer.h.23.post_attention_layernorm.weight torch.float16\n",
      "transformer.h.23.post_attention_layernorm.bias torch.float16\n",
      "transformer.h.23.mlp.dense_h_to_4h.weight torch.uint8\n",
      "transformer.h.23.mlp.dense_h_to_4h.bias torch.float16\n",
      "transformer.h.23.mlp.dense_4h_to_h.weight torch.uint8\n",
      "transformer.h.23.mlp.dense_4h_to_h.bias torch.float16\n",
      "transformer.ln_f.weight torch.float16\n",
      "transformer.ln_f.bias torch.float16\n"
     ]
    }
   ],
   "source": [
    "for name, parameter in model.named_parameters():\n",
    "    print(name,parameter.dtype)"
   ]
  },
  {
   "cell_type": "markdown",
   "metadata": {},
   "source": [
    "## Lora"
   ]
  },
  {
   "cell_type": "markdown",
   "metadata": {},
   "source": [
    "### PEFT Step1 配置文件"
   ]
  },
  {
   "cell_type": "code",
   "execution_count": 15,
   "metadata": {
    "tags": []
   },
   "outputs": [
    {
     "data": {
      "text/plain": [
       "LoraConfig(peft_type=<PeftType.LORA: 'LORA'>, auto_mapping=None, base_model_name_or_path=None, revision=None, task_type=<TaskType.CAUSAL_LM: 'CAUSAL_LM'>, inference_mode=False, r=8, target_modules=['query_key_value'], lora_alpha=8, lora_dropout=0.0, fan_in_fan_out=False, bias='none', modules_to_save=None, init_lora_weights=True, layers_to_transform=None, layers_pattern=None)"
      ]
     },
     "execution_count": 15,
     "metadata": {},
     "output_type": "execute_result"
    }
   ],
   "source": [
    "from peft import LoraConfig, TaskType, get_peft_model\n",
    "## ,target_modules=[\"query_key_value\"],r=8\n",
    "config = LoraConfig(task_type=TaskType.CAUSAL_LM,r=8, target_modules=['query_key_value'])\n",
    "config"
   ]
  },
  {
   "cell_type": "code",
   "execution_count": 16,
   "metadata": {
    "tags": []
   },
   "outputs": [],
   "source": [
    "# 在深度神经网络 [deep neural network] 训练时，需要对每个参数或权重 [parameter/weight] 计算其对损失函数 \n",
    "# [loss function] 的梯度 [gradient]，从而进行反向传播 [back propagation] 和优化[optimization]。\n",
    "# 默认情况下不会计算输入数据 [input data] 的梯度，即使它们在计算中起到了关键的作用。但是，在某些应用场景中，\n",
    "# 例如图像生成 [image generation]、注意力机制 [attention mechanism] 等，需要计算输入数据的梯度。此时，\n",
    "# 可以通过启用计算输入梯度的功能，对输入数据进行求导并利用其梯度信息进行优化。\n",
    "# 作用: 启用该功能这对于在保持模型权重固定的同时微调适配器权重非常有用。\n",
    "\n",
    "model.enable_input_require_grads()"
   ]
  },
  {
   "cell_type": "markdown",
   "metadata": {},
   "source": [
    "### PEFT Step2 创建模型"
   ]
  },
  {
   "cell_type": "code",
   "execution_count": 17,
   "metadata": {
    "collapsed": true,
    "jupyter": {
     "outputs_hidden": true
    },
    "tags": []
   },
   "outputs": [
    {
     "data": {
      "text/plain": [
       "PeftModelForCausalLM(\n",
       "  (base_model): LoraModel(\n",
       "    (model): BloomForCausalLM(\n",
       "      (transformer): BloomModel(\n",
       "        (word_embeddings): Embedding(46145, 2048)\n",
       "        (word_embeddings_layernorm): LayerNorm((2048,), eps=1e-05, elementwise_affine=True)\n",
       "        (h): ModuleList(\n",
       "          (0-23): 24 x BloomBlock(\n",
       "            (input_layernorm): LayerNorm((2048,), eps=1e-05, elementwise_affine=True)\n",
       "            (self_attention): BloomAttention(\n",
       "              (query_key_value): Linear4bit(\n",
       "                in_features=2048, out_features=6144, bias=True\n",
       "                (lora_dropout): ModuleDict(\n",
       "                  (default): Identity()\n",
       "                )\n",
       "                (lora_A): ModuleDict(\n",
       "                  (default): Linear(in_features=2048, out_features=8, bias=False)\n",
       "                )\n",
       "                (lora_B): ModuleDict(\n",
       "                  (default): Linear(in_features=8, out_features=6144, bias=False)\n",
       "                )\n",
       "                (lora_embedding_A): ParameterDict()\n",
       "                (lora_embedding_B): ParameterDict()\n",
       "              )\n",
       "              (dense): Linear4bit(in_features=2048, out_features=2048, bias=True)\n",
       "              (attention_dropout): Dropout(p=0.0, inplace=False)\n",
       "            )\n",
       "            (post_attention_layernorm): LayerNorm((2048,), eps=1e-05, elementwise_affine=True)\n",
       "            (mlp): BloomMLP(\n",
       "              (dense_h_to_4h): Linear4bit(in_features=2048, out_features=8192, bias=True)\n",
       "              (gelu_impl): BloomGelu()\n",
       "              (dense_4h_to_h): Linear4bit(in_features=8192, out_features=2048, bias=True)\n",
       "            )\n",
       "          )\n",
       "        )\n",
       "        (ln_f): LayerNorm((2048,), eps=1e-05, elementwise_affine=True)\n",
       "      )\n",
       "      (lm_head): Linear(in_features=2048, out_features=46145, bias=False)\n",
       "    )\n",
       "  )\n",
       ")"
      ]
     },
     "execution_count": 17,
     "metadata": {},
     "output_type": "execute_result"
    }
   ],
   "source": [
    "model = get_peft_model(model, config)\n",
    "model"
   ]
  },
  {
   "cell_type": "code",
   "execution_count": 29,
   "metadata": {
    "tags": []
   },
   "outputs": [
    {
     "data": {
      "text/plain": [
       "LoraConfig(peft_type=<PeftType.LORA: 'LORA'>, auto_mapping=None, base_model_name_or_path=None, revision=None, task_type=<TaskType.CAUSAL_LM: 'CAUSAL_LM'>, inference_mode=False, r=8, target_modules={'query_key_value', 'dense_4h_to_h'}, lora_alpha=8, lora_dropout=0.0, fan_in_fan_out=False, bias='none', modules_to_save=None, init_lora_weights=True, layers_to_transform=None, layers_pattern=None, rank_pattern={}, alpha_pattern={}, megatron_config=None, megatron_core='megatron.core', loftq_config={})"
      ]
     },
     "execution_count": 29,
     "metadata": {},
     "output_type": "execute_result"
    }
   ],
   "source": [
    "config"
   ]
  },
  {
   "cell_type": "markdown",
   "metadata": {},
   "source": [
    "## Step5 配置训练参数"
   ]
  },
  {
   "cell_type": "code",
   "execution_count": 18,
   "metadata": {
    "tags": []
   },
   "outputs": [],
   "source": [
    "args = TrainingArguments(\n",
    "    output_dir=\"/root/autodl-tmp/tuningdata/qlora\",\n",
    "    per_device_train_batch_size=4,\n",
    "    gradient_accumulation_steps=8,\n",
    "    logging_steps=20,\n",
    "    num_train_epochs=1,\n",
    "    gradient_checkpointing=True,\n",
    "    optim=\"paged_adamw_32bit\"\n",
    ")"
   ]
  },
  {
   "cell_type": "markdown",
   "metadata": {},
   "source": [
    "## Step6 创建训练器"
   ]
  },
  {
   "cell_type": "code",
   "execution_count": 19,
   "metadata": {
    "tags": []
   },
   "outputs": [],
   "source": [
    "trainer = Trainer(\n",
    "    model=model,\n",
    "    args=args,\n",
    "    train_dataset=tokenized_ds,\n",
    "    data_collator=DataCollatorForSeq2Seq(tokenizer=tokenizer, padding=True),\n",
    ")"
   ]
  },
  {
   "cell_type": "markdown",
   "metadata": {},
   "source": [
    "## Step7 模型训练"
   ]
  },
  {
   "cell_type": "code",
   "execution_count": 20,
   "metadata": {
    "tags": []
   },
   "outputs": [
    {
     "name": "stderr",
     "output_type": "stream",
     "text": [
      "You're using a BloomTokenizerFast tokenizer. Please note that with a fast tokenizer, using the `__call__` method is faster than using a method to encode the text followed by a call to the `pad` method to get a padded encoding.\n",
      "`use_cache=True` is incompatible with gradient checkpointing. Setting `use_cache=False`...\n",
      "/root/miniconda3/lib/python3.8/site-packages/bitsandbytes/nn/modules.py:226: UserWarning: Input type into Linear4bit is torch.float16, but bnb_4bit_compute_type=torch.float32 (default). This will lead to slow inference or training speed.\n",
      "  warnings.warn(f'Input type into Linear4bit is torch.float16, but bnb_4bit_compute_type=torch.float32 (default). This will lead to slow inference or training speed.')\n"
     ]
    },
    {
     "data": {
      "text/html": [
       "\n",
       "    <div>\n",
       "      \n",
       "      <progress value='839' max='839' style='width:300px; height:20px; vertical-align: middle;'></progress>\n",
       "      [839/839 15:27, Epoch 0/1]\n",
       "    </div>\n",
       "    <table border=\"1\" class=\"dataframe\">\n",
       "  <thead>\n",
       " <tr style=\"text-align: left;\">\n",
       "      <th>Step</th>\n",
       "      <th>Training Loss</th>\n",
       "    </tr>\n",
       "  </thead>\n",
       "  <tbody>\n",
       "    <tr>\n",
       "      <td>20</td>\n",
       "      <td>2.804600</td>\n",
       "    </tr>\n",
       "    <tr>\n",
       "      <td>40</td>\n",
       "      <td>2.715800</td>\n",
       "    </tr>\n",
       "    <tr>\n",
       "      <td>60</td>\n",
       "      <td>2.591400</td>\n",
       "    </tr>\n",
       "    <tr>\n",
       "      <td>80</td>\n",
       "      <td>2.541400</td>\n",
       "    </tr>\n",
       "    <tr>\n",
       "      <td>100</td>\n",
       "      <td>2.436800</td>\n",
       "    </tr>\n",
       "    <tr>\n",
       "      <td>120</td>\n",
       "      <td>2.470800</td>\n",
       "    </tr>\n",
       "    <tr>\n",
       "      <td>140</td>\n",
       "      <td>2.487000</td>\n",
       "    </tr>\n",
       "    <tr>\n",
       "      <td>160</td>\n",
       "      <td>2.452600</td>\n",
       "    </tr>\n",
       "    <tr>\n",
       "      <td>180</td>\n",
       "      <td>2.435300</td>\n",
       "    </tr>\n",
       "    <tr>\n",
       "      <td>200</td>\n",
       "      <td>2.374000</td>\n",
       "    </tr>\n",
       "    <tr>\n",
       "      <td>220</td>\n",
       "      <td>2.410100</td>\n",
       "    </tr>\n",
       "    <tr>\n",
       "      <td>240</td>\n",
       "      <td>2.373300</td>\n",
       "    </tr>\n",
       "    <tr>\n",
       "      <td>260</td>\n",
       "      <td>2.350500</td>\n",
       "    </tr>\n",
       "    <tr>\n",
       "      <td>280</td>\n",
       "      <td>2.346100</td>\n",
       "    </tr>\n",
       "    <tr>\n",
       "      <td>300</td>\n",
       "      <td>2.368600</td>\n",
       "    </tr>\n",
       "    <tr>\n",
       "      <td>320</td>\n",
       "      <td>2.345600</td>\n",
       "    </tr>\n",
       "    <tr>\n",
       "      <td>340</td>\n",
       "      <td>2.360800</td>\n",
       "    </tr>\n",
       "    <tr>\n",
       "      <td>360</td>\n",
       "      <td>2.328200</td>\n",
       "    </tr>\n",
       "    <tr>\n",
       "      <td>380</td>\n",
       "      <td>2.318300</td>\n",
       "    </tr>\n",
       "    <tr>\n",
       "      <td>400</td>\n",
       "      <td>2.268100</td>\n",
       "    </tr>\n",
       "    <tr>\n",
       "      <td>420</td>\n",
       "      <td>2.334000</td>\n",
       "    </tr>\n",
       "    <tr>\n",
       "      <td>440</td>\n",
       "      <td>2.333600</td>\n",
       "    </tr>\n",
       "    <tr>\n",
       "      <td>460</td>\n",
       "      <td>2.297600</td>\n",
       "    </tr>\n",
       "    <tr>\n",
       "      <td>480</td>\n",
       "      <td>2.334200</td>\n",
       "    </tr>\n",
       "    <tr>\n",
       "      <td>500</td>\n",
       "      <td>2.291700</td>\n",
       "    </tr>\n",
       "    <tr>\n",
       "      <td>520</td>\n",
       "      <td>2.338000</td>\n",
       "    </tr>\n",
       "    <tr>\n",
       "      <td>540</td>\n",
       "      <td>2.323500</td>\n",
       "    </tr>\n",
       "    <tr>\n",
       "      <td>560</td>\n",
       "      <td>2.324100</td>\n",
       "    </tr>\n",
       "    <tr>\n",
       "      <td>580</td>\n",
       "      <td>2.291400</td>\n",
       "    </tr>\n",
       "    <tr>\n",
       "      <td>600</td>\n",
       "      <td>2.295800</td>\n",
       "    </tr>\n",
       "    <tr>\n",
       "      <td>620</td>\n",
       "      <td>2.336500</td>\n",
       "    </tr>\n",
       "    <tr>\n",
       "      <td>640</td>\n",
       "      <td>2.266600</td>\n",
       "    </tr>\n",
       "    <tr>\n",
       "      <td>660</td>\n",
       "      <td>2.274900</td>\n",
       "    </tr>\n",
       "    <tr>\n",
       "      <td>680</td>\n",
       "      <td>2.296900</td>\n",
       "    </tr>\n",
       "    <tr>\n",
       "      <td>700</td>\n",
       "      <td>2.293200</td>\n",
       "    </tr>\n",
       "    <tr>\n",
       "      <td>720</td>\n",
       "      <td>2.270900</td>\n",
       "    </tr>\n",
       "    <tr>\n",
       "      <td>740</td>\n",
       "      <td>2.283500</td>\n",
       "    </tr>\n",
       "    <tr>\n",
       "      <td>760</td>\n",
       "      <td>2.305200</td>\n",
       "    </tr>\n",
       "    <tr>\n",
       "      <td>780</td>\n",
       "      <td>2.313900</td>\n",
       "    </tr>\n",
       "    <tr>\n",
       "      <td>800</td>\n",
       "      <td>2.304700</td>\n",
       "    </tr>\n",
       "    <tr>\n",
       "      <td>820</td>\n",
       "      <td>2.320600</td>\n",
       "    </tr>\n",
       "  </tbody>\n",
       "</table><p>"
      ],
      "text/plain": [
       "<IPython.core.display.HTML object>"
      ]
     },
     "metadata": {},
     "output_type": "display_data"
    },
    {
     "data": {
      "text/plain": [
       "TrainOutput(global_step=839, training_loss=2.368972869254693, metrics={'train_runtime': 928.4072, 'train_samples_per_second': 28.929, 'train_steps_per_second': 0.904, 'total_flos': 1.1645495978754048e+16, 'train_loss': 2.368972869254693, 'epoch': 1.0})"
      ]
     },
     "execution_count": 20,
     "metadata": {},
     "output_type": "execute_result"
    }
   ],
   "source": [
    "trainer.train()"
   ]
  },
  {
   "cell_type": "markdown",
   "metadata": {},
   "source": [
    "## Step8 模型推理"
   ]
  },
  {
   "cell_type": "code",
   "execution_count": 22,
   "metadata": {
    "tags": []
   },
   "outputs": [
    {
     "data": {
      "text/plain": [
       "'Human: 如何写一个优秀的简历？\\n\\nAssistant: 一篇优秀而出色的简历应简洁清楚，内容丰富有趣，能够反映一个人的知识水平和工作经验。它应该包括个人信息、工作经历、能力证明、取得的成就和未来的规划等内容。如果您愿意，我愿意为您提供一份简历模板。'"
      ]
     },
     "execution_count": 22,
     "metadata": {},
     "output_type": "execute_result"
    }
   ],
   "source": [
    "from peft import PeftModel\n",
    "from transformers import pipeline\n",
    "\n",
    "p_model = PeftModel.from_pretrained(model, model_id=\"/root/autodl-tmp/tuningdata/qlora/checkpoint-500\")\n",
    "\n",
    "\n",
    "pipe = pipeline(\"text-generation\", model=p_model, tokenizer=tokenizer, device=0)\n",
    "ipt = \"Human: {}\\n{}\".format(\"如何写好一个简历？\", \"\").strip() + \"\\n\\nAssistant: \"\n",
    "pipe(ipt, max_length=256, do_sample=True, )\n"
   ]
  },
  {
   "cell_type": "code",
   "execution_count": null,
   "metadata": {},
   "outputs": [],
   "source": []
  }
 ],
 "metadata": {
  "kernelspec": {
   "display_name": "Python 3 (ipykernel)",
   "language": "python",
   "name": "python3"
  },
  "language_info": {
   "codemirror_mode": {
    "name": "ipython",
    "version": 3
   },
   "file_extension": ".py",
   "mimetype": "text/x-python",
   "name": "python",
   "nbconvert_exporter": "python",
   "pygments_lexer": "ipython3",
   "version": "3.8.10"
  }
 },
 "nbformat": 4,
 "nbformat_minor": 4
}
